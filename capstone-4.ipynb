{
 "cells": [
  {
   "cell_type": "code",
   "execution_count": null,
   "id": "83cf65e0",
   "metadata": {},
   "outputs": [
    {
     "name": "stdout",
     "output_type": "stream",
     "text": [
      "Requirement already satisfied: category_encoders in c:\\users\\manideep\\anaconda3\\lib\\site-packages (2.6.0)\n",
      "Requirement already satisfied: patsy>=0.5.1 in c:\\users\\manideep\\anaconda3\\lib\\site-packages (from category_encoders) (0.5.2)\n",
      "Requirement already satisfied: pandas>=1.0.5 in c:\\users\\manideep\\anaconda3\\lib\\site-packages (from category_encoders) (1.4.4)\n",
      "Requirement already satisfied: numpy>=1.14.0 in c:\\users\\manideep\\anaconda3\\lib\\site-packages (from category_encoders) (1.23.5)\n",
      "Requirement already satisfied: scipy>=1.0.0 in c:\\users\\manideep\\anaconda3\\lib\\site-packages (from category_encoders) (1.9.1)\n",
      "Requirement already satisfied: scikit-learn>=0.20.0 in c:\\users\\manideep\\anaconda3\\lib\\site-packages (from category_encoders) (1.0.2)\n",
      "Requirement already satisfied: statsmodels>=0.9.0 in c:\\users\\manideep\\anaconda3\\lib\\site-packages (from category_encoders) (0.13.2)\n",
      "Requirement already satisfied: python-dateutil>=2.8.1 in c:\\users\\manideep\\anaconda3\\lib\\site-packages (from pandas>=1.0.5->category_encoders) (2.8.2)\n",
      "Requirement already satisfied: pytz>=2020.1 in c:\\users\\manideep\\anaconda3\\lib\\site-packages (from pandas>=1.0.5->category_encoders) (2022.1)\n",
      "Requirement already satisfied: six in c:\\users\\manideep\\anaconda3\\lib\\site-packages (from patsy>=0.5.1->category_encoders) (1.16.0)\n",
      "Requirement already satisfied: joblib>=0.11 in c:\\users\\manideep\\anaconda3\\lib\\site-packages (from scikit-learn>=0.20.0->category_encoders) (1.2.0)\n",
      "Requirement already satisfied: threadpoolctl>=2.0.0 in c:\\users\\manideep\\anaconda3\\lib\\site-packages (from scikit-learn>=0.20.0->category_encoders) (2.2.0)\n",
      "Requirement already satisfied: packaging>=21.3 in c:\\users\\manideep\\anaconda3\\lib\\site-packages (from statsmodels>=0.9.0->category_encoders) (21.3)\n",
      "Requirement already satisfied: pyparsing!=3.0.5,>=2.0.2 in c:\\users\\manideep\\anaconda3\\lib\\site-packages (from packaging>=21.3->statsmodels>=0.9.0->category_encoders) (3.0.9)\n",
      "Requirement already satisfied: sweetviz in c:\\users\\manideep\\anaconda3\\lib\\site-packages (2.1.4)\n",
      "Requirement already satisfied: matplotlib>=3.1.3 in c:\\users\\manideep\\anaconda3\\lib\\site-packages (from sweetviz) (3.5.2)\n",
      "Requirement already satisfied: scipy>=1.3.2 in c:\\users\\manideep\\anaconda3\\lib\\site-packages (from sweetviz) (1.9.1)\n",
      "Requirement already satisfied: tqdm>=4.43.0 in c:\\users\\manideep\\anaconda3\\lib\\site-packages (from sweetviz) (4.64.1)\n",
      "Requirement already satisfied: jinja2>=2.11.1 in c:\\users\\manideep\\anaconda3\\lib\\site-packages (from sweetviz) (2.11.3)\n",
      "Requirement already satisfied: pandas!=1.0.0,!=1.0.1,!=1.0.2,>=0.25.3 in c:\\users\\manideep\\anaconda3\\lib\\site-packages (from sweetviz) (1.4.4)\n",
      "Requirement already satisfied: numpy>=1.16.0 in c:\\users\\manideep\\anaconda3\\lib\\site-packages (from sweetviz) (1.23.5)\n",
      "Requirement already satisfied: importlib-resources>=1.2.0 in c:\\users\\manideep\\anaconda3\\lib\\site-packages (from sweetviz) (5.10.2)\n",
      "Requirement already satisfied: zipp>=3.1.0 in c:\\users\\manideep\\anaconda3\\lib\\site-packages (from importlib-resources>=1.2.0->sweetviz) (3.8.0)\n",
      "Requirement already satisfied: MarkupSafe>=0.23 in c:\\users\\manideep\\anaconda3\\lib\\site-packages (from jinja2>=2.11.1->sweetviz) (2.0.1)\n",
      "Requirement already satisfied: fonttools>=4.22.0 in c:\\users\\manideep\\anaconda3\\lib\\site-packages (from matplotlib>=3.1.3->sweetviz) (4.25.0)\n",
      "Requirement already satisfied: python-dateutil>=2.7 in c:\\users\\manideep\\anaconda3\\lib\\site-packages (from matplotlib>=3.1.3->sweetviz) (2.8.2)\n",
      "Requirement already satisfied: pyparsing>=2.2.1 in c:\\users\\manideep\\anaconda3\\lib\\site-packages (from matplotlib>=3.1.3->sweetviz) (3.0.9)\n",
      "Requirement already satisfied: kiwisolver>=1.0.1 in c:\\users\\manideep\\anaconda3\\lib\\site-packages (from matplotlib>=3.1.3->sweetviz) (1.4.2)\n",
      "Requirement already satisfied: packaging>=20.0 in c:\\users\\manideep\\anaconda3\\lib\\site-packages (from matplotlib>=3.1.3->sweetviz) (21.3)\n",
      "Requirement already satisfied: cycler>=0.10 in c:\\users\\manideep\\anaconda3\\lib\\site-packages (from matplotlib>=3.1.3->sweetviz) (0.11.0)\n",
      "Requirement already satisfied: pillow>=6.2.0 in c:\\users\\manideep\\anaconda3\\lib\\site-packages (from matplotlib>=3.1.3->sweetviz) (9.2.0)\n",
      "Requirement already satisfied: pytz>=2020.1 in c:\\users\\manideep\\anaconda3\\lib\\site-packages (from pandas!=1.0.0,!=1.0.1,!=1.0.2,>=0.25.3->sweetviz) (2022.1)\n",
      "Requirement already satisfied: colorama in c:\\users\\manideep\\anaconda3\\lib\\site-packages (from tqdm>=4.43.0->sweetviz) (0.4.5)\n",
      "Requirement already satisfied: six>=1.5 in c:\\users\\manideep\\anaconda3\\lib\\site-packages (from python-dateutil>=2.7->matplotlib>=3.1.3->sweetviz) (1.16.0)\n",
      "Requirement already satisfied: xgboost in c:\\users\\manideep\\anaconda3\\lib\\site-packages (1.7.3)\n",
      "Requirement already satisfied: numpy in c:\\users\\manideep\\anaconda3\\lib\\site-packages (from xgboost) (1.23.5)\n",
      "Requirement already satisfied: scipy in c:\\users\\manideep\\anaconda3\\lib\\site-packages (from xgboost) (1.9.1)\n"
     ]
    }
   ],
   "source": [
    "! pip install category_encoders\n",
    "!pip install sweetviz\n",
    "!pip install xgboost\n",
    "!pip install catboost\n"
   ]
  },
  {
   "cell_type": "code",
   "execution_count": 1,
   "id": "65b61e88",
   "metadata": {},
   "outputs": [],
   "source": [
    "import pandas as pd\n",
    "import seaborn as sns\n",
    "import matplotlib.pyplot as plt\n",
    "import numpy as np\n",
    "from sklearn.impute import SimpleImputer\n",
    "\n",
    "from scipy.stats.mstats import winsorize\n",
    "from sklearn.preprocessing import MinMaxScaler\n",
    "from sklearn.model_selection import train_test_split\n",
    "from sklearn.linear_model import LogisticRegression\n",
    "from sklearn.metrics import accuracy_score\n",
    "from sklearn.tree import DecisionTreeClassifier\n",
    "from sklearn.ensemble import RandomForestClassifier\n",
    "from xgboost import XGBClassifier\n",
    "from sklearn.ensemble import AdaBoostClassifier\n",
    "from sklearn.linear_model import LinearRegression\n",
    "from sklearn.metrics import r2_score\n",
    "from sklearn.neighbors import KNeighborsClassifier\n",
    "from sklearn.preprocessing import LabelEncoder\n",
    "from sklearn.ensemble import GradientBoostingClassifier\n",
    "from catboost import CatBoostClassifier\n",
    "import catboost\n",
    "import sweetviz\n",
    "import category_encoders as ce\n",
    "import xgboost\n",
    "import warnings\n",
    "warnings.filterwarnings('ignore')\n",
    "\n"
   ]
  },
  {
   "cell_type": "code",
   "execution_count": 2,
   "id": "fbe2e414",
   "metadata": {},
   "outputs": [],
   "source": [
    "df = pd.read_csv(\"C:\\\\Users\\\\manideep\\\\Downloads\\\\daily_offers.xlsx - Result 1.csv\")"
   ]
  },
  {
   "cell_type": "code",
   "execution_count": 3,
   "id": "a451ef2d",
   "metadata": {},
   "outputs": [
    {
     "data": {
      "text/plain": [
       "(181673, 14)"
      ]
     },
     "execution_count": 3,
     "metadata": {},
     "output_type": "execute_result"
    }
   ],
   "source": [
    "df.shape"
   ]
  },
  {
   "cell_type": "code",
   "execution_count": 4,
   "id": "e2ce52c0",
   "metadata": {},
   "outputs": [
    {
     "data": {
      "text/plain": [
       "array(['Won', 'Draft', 'To be approved', 'Lost', 'Not lost for AM',\n",
       "       'Wonderful', 'Revised', 'Offered', 'Offerable', nan], dtype=object)"
      ]
     },
     "execution_count": 4,
     "metadata": {},
     "output_type": "execute_result"
    }
   ],
   "source": [
    "df.status.unique()"
   ]
  },
  {
   "cell_type": "code",
   "execution_count": 5,
   "id": "99cc83b5",
   "metadata": {},
   "outputs": [
    {
     "data": {
      "text/html": [
       "<div>\n",
       "<style scoped>\n",
       "    .dataframe tbody tr th:only-of-type {\n",
       "        vertical-align: middle;\n",
       "    }\n",
       "\n",
       "    .dataframe tbody tr th {\n",
       "        vertical-align: top;\n",
       "    }\n",
       "\n",
       "    .dataframe thead th {\n",
       "        text-align: right;\n",
       "    }\n",
       "</style>\n",
       "<table border=\"1\" class=\"dataframe\">\n",
       "  <thead>\n",
       "    <tr style=\"text-align: right;\">\n",
       "      <th></th>\n",
       "      <th>id</th>\n",
       "      <th>item_date</th>\n",
       "      <th>quantity tons</th>\n",
       "      <th>customer</th>\n",
       "      <th>country</th>\n",
       "      <th>status</th>\n",
       "      <th>item type</th>\n",
       "      <th>application</th>\n",
       "      <th>thickness</th>\n",
       "      <th>width</th>\n",
       "      <th>material_ref</th>\n",
       "      <th>product_ref</th>\n",
       "      <th>delivery date</th>\n",
       "      <th>selling_price</th>\n",
       "    </tr>\n",
       "  </thead>\n",
       "  <tbody>\n",
       "    <tr>\n",
       "      <th>0</th>\n",
       "      <td>EC06F063-9DF0-440C-8764-0B0C05A4F6AE</td>\n",
       "      <td>20210401.0</td>\n",
       "      <td>54.151139</td>\n",
       "      <td>30156308.0</td>\n",
       "      <td>28.0</td>\n",
       "      <td>Won</td>\n",
       "      <td>W</td>\n",
       "      <td>10.0</td>\n",
       "      <td>2.00</td>\n",
       "      <td>1500.0</td>\n",
       "      <td>DEQ1 S460MC</td>\n",
       "      <td>1670798778</td>\n",
       "      <td>20210701.0</td>\n",
       "      <td>854.00</td>\n",
       "    </tr>\n",
       "    <tr>\n",
       "      <th>1</th>\n",
       "      <td>4E5F4B3D-DDDF-499D-AFDE-A3227EC49425</td>\n",
       "      <td>20210401.0</td>\n",
       "      <td>768.024839</td>\n",
       "      <td>30202938.0</td>\n",
       "      <td>25.0</td>\n",
       "      <td>Won</td>\n",
       "      <td>W</td>\n",
       "      <td>41.0</td>\n",
       "      <td>0.80</td>\n",
       "      <td>1210.0</td>\n",
       "      <td>0000000000000000000000000000000000104991</td>\n",
       "      <td>1668701718</td>\n",
       "      <td>20210401.0</td>\n",
       "      <td>1047.00</td>\n",
       "    </tr>\n",
       "    <tr>\n",
       "      <th>2</th>\n",
       "      <td>E140FF1B-2407-4C02-A0DD-780A093B1158</td>\n",
       "      <td>20210401.0</td>\n",
       "      <td>386.127949</td>\n",
       "      <td>30153963.0</td>\n",
       "      <td>30.0</td>\n",
       "      <td>Won</td>\n",
       "      <td>WI</td>\n",
       "      <td>28.0</td>\n",
       "      <td>0.38</td>\n",
       "      <td>952.0</td>\n",
       "      <td>S0380700</td>\n",
       "      <td>628377</td>\n",
       "      <td>20210101.0</td>\n",
       "      <td>644.33</td>\n",
       "    </tr>\n",
       "    <tr>\n",
       "      <th>3</th>\n",
       "      <td>F8D507A0-9C62-4EFE-831E-33E1DA53BB50</td>\n",
       "      <td>20210401.0</td>\n",
       "      <td>202.411065</td>\n",
       "      <td>30349574.0</td>\n",
       "      <td>32.0</td>\n",
       "      <td>Won</td>\n",
       "      <td>S</td>\n",
       "      <td>59.0</td>\n",
       "      <td>2.30</td>\n",
       "      <td>1317.0</td>\n",
       "      <td>DX51D+ZM310MAO 2.3X1317</td>\n",
       "      <td>1668701718</td>\n",
       "      <td>20210101.0</td>\n",
       "      <td>768.00</td>\n",
       "    </tr>\n",
       "    <tr>\n",
       "      <th>4</th>\n",
       "      <td>4E1C4E78-152B-430A-8094-ADD889C9D0AD</td>\n",
       "      <td>20210401.0</td>\n",
       "      <td>785.526262</td>\n",
       "      <td>30211560.0</td>\n",
       "      <td>28.0</td>\n",
       "      <td>Won</td>\n",
       "      <td>W</td>\n",
       "      <td>10.0</td>\n",
       "      <td>4.00</td>\n",
       "      <td>2000.0</td>\n",
       "      <td>2_S275JR+AR-CL1</td>\n",
       "      <td>640665</td>\n",
       "      <td>20210301.0</td>\n",
       "      <td>577.00</td>\n",
       "    </tr>\n",
       "  </tbody>\n",
       "</table>\n",
       "</div>"
      ],
      "text/plain": [
       "                                     id   item_date quantity tons    customer  \\\n",
       "0  EC06F063-9DF0-440C-8764-0B0C05A4F6AE  20210401.0     54.151139  30156308.0   \n",
       "1  4E5F4B3D-DDDF-499D-AFDE-A3227EC49425  20210401.0    768.024839  30202938.0   \n",
       "2  E140FF1B-2407-4C02-A0DD-780A093B1158  20210401.0    386.127949  30153963.0   \n",
       "3  F8D507A0-9C62-4EFE-831E-33E1DA53BB50  20210401.0    202.411065  30349574.0   \n",
       "4  4E1C4E78-152B-430A-8094-ADD889C9D0AD  20210401.0    785.526262  30211560.0   \n",
       "\n",
       "   country status item type  application  thickness   width  \\\n",
       "0     28.0    Won         W         10.0       2.00  1500.0   \n",
       "1     25.0    Won         W         41.0       0.80  1210.0   \n",
       "2     30.0    Won        WI         28.0       0.38   952.0   \n",
       "3     32.0    Won         S         59.0       2.30  1317.0   \n",
       "4     28.0    Won         W         10.0       4.00  2000.0   \n",
       "\n",
       "                               material_ref  product_ref  delivery date  \\\n",
       "0                               DEQ1 S460MC   1670798778     20210701.0   \n",
       "1  0000000000000000000000000000000000104991   1668701718     20210401.0   \n",
       "2                                  S0380700       628377     20210101.0   \n",
       "3                   DX51D+ZM310MAO 2.3X1317   1668701718     20210101.0   \n",
       "4                           2_S275JR+AR-CL1       640665     20210301.0   \n",
       "\n",
       "   selling_price  \n",
       "0         854.00  \n",
       "1        1047.00  \n",
       "2         644.33  \n",
       "3         768.00  \n",
       "4         577.00  "
      ]
     },
     "execution_count": 5,
     "metadata": {},
     "output_type": "execute_result"
    }
   ],
   "source": [
    "df.head()"
   ]
  },
  {
   "cell_type": "code",
   "execution_count": 6,
   "id": "ac8de838",
   "metadata": {},
   "outputs": [],
   "source": [
    "xer = df[\"status\"]"
   ]
  },
  {
   "cell_type": "code",
   "execution_count": 7,
   "id": "10e0226c",
   "metadata": {},
   "outputs": [
    {
     "data": {
      "text/plain": [
       "0    Won\n",
       "1    Won\n",
       "2    Won\n",
       "3    Won\n",
       "4    Won\n",
       "Name: status, dtype: object"
      ]
     },
     "execution_count": 7,
     "metadata": {},
     "output_type": "execute_result"
    }
   ],
   "source": [
    "xer.head()"
   ]
  },
  {
   "cell_type": "code",
   "execution_count": 8,
   "id": "2bccc72f",
   "metadata": {},
   "outputs": [
    {
     "name": "stdout",
     "output_type": "stream",
     "text": [
      "<class 'pandas.core.frame.DataFrame'>\n",
      "RangeIndex: 181673 entries, 0 to 181672\n",
      "Data columns (total 14 columns):\n",
      " #   Column         Non-Null Count   Dtype  \n",
      "---  ------         --------------   -----  \n",
      " 0   id             181671 non-null  object \n",
      " 1   item_date      181672 non-null  float64\n",
      " 2   quantity tons  181673 non-null  object \n",
      " 3   customer       181672 non-null  float64\n",
      " 4   country        181645 non-null  float64\n",
      " 5   status         181671 non-null  object \n",
      " 6   item type      181673 non-null  object \n",
      " 7   application    181649 non-null  float64\n",
      " 8   thickness      181672 non-null  float64\n",
      " 9   width          181673 non-null  float64\n",
      " 10  material_ref   103754 non-null  object \n",
      " 11  product_ref    181673 non-null  int64  \n",
      " 12  delivery date  181672 non-null  float64\n",
      " 13  selling_price  181672 non-null  float64\n",
      "dtypes: float64(8), int64(1), object(5)\n",
      "memory usage: 19.4+ MB\n"
     ]
    }
   ],
   "source": [
    "df.info()"
   ]
  },
  {
   "cell_type": "code",
   "execution_count": 9,
   "id": "7f7ee90b",
   "metadata": {},
   "outputs": [
    {
     "data": {
      "text/html": [
       "<div>\n",
       "<style scoped>\n",
       "    .dataframe tbody tr th:only-of-type {\n",
       "        vertical-align: middle;\n",
       "    }\n",
       "\n",
       "    .dataframe tbody tr th {\n",
       "        vertical-align: top;\n",
       "    }\n",
       "\n",
       "    .dataframe thead th {\n",
       "        text-align: right;\n",
       "    }\n",
       "</style>\n",
       "<table border=\"1\" class=\"dataframe\">\n",
       "  <thead>\n",
       "    <tr style=\"text-align: right;\">\n",
       "      <th></th>\n",
       "      <th>item_date</th>\n",
       "      <th>customer</th>\n",
       "      <th>country</th>\n",
       "      <th>application</th>\n",
       "      <th>thickness</th>\n",
       "      <th>width</th>\n",
       "      <th>product_ref</th>\n",
       "      <th>delivery date</th>\n",
       "      <th>selling_price</th>\n",
       "    </tr>\n",
       "  </thead>\n",
       "  <tbody>\n",
       "    <tr>\n",
       "      <th>count</th>\n",
       "      <td>1.816720e+05</td>\n",
       "      <td>1.816720e+05</td>\n",
       "      <td>181645.000000</td>\n",
       "      <td>181649.000000</td>\n",
       "      <td>181672.000000</td>\n",
       "      <td>181673.000000</td>\n",
       "      <td>1.816730e+05</td>\n",
       "      <td>1.816720e+05</td>\n",
       "      <td>1.816720e+05</td>\n",
       "    </tr>\n",
       "    <tr>\n",
       "      <th>mean</th>\n",
       "      <td>2.020459e+07</td>\n",
       "      <td>3.051221e+07</td>\n",
       "      <td>44.893022</td>\n",
       "      <td>25.615809</td>\n",
       "      <td>2.564827</td>\n",
       "      <td>1295.286724</td>\n",
       "      <td>4.739679e+08</td>\n",
       "      <td>2.020738e+07</td>\n",
       "      <td>1.918036e+03</td>\n",
       "    </tr>\n",
       "    <tr>\n",
       "      <th>std</th>\n",
       "      <td>4.551119e+03</td>\n",
       "      <td>2.433382e+07</td>\n",
       "      <td>24.404214</td>\n",
       "      <td>17.754175</td>\n",
       "      <td>6.572321</td>\n",
       "      <td>261.631754</td>\n",
       "      <td>7.175101e+08</td>\n",
       "      <td>2.411059e+04</td>\n",
       "      <td>3.317956e+05</td>\n",
       "    </tr>\n",
       "    <tr>\n",
       "      <th>min</th>\n",
       "      <td>1.995000e+07</td>\n",
       "      <td>1.245800e+04</td>\n",
       "      <td>25.000000</td>\n",
       "      <td>2.000000</td>\n",
       "      <td>0.180000</td>\n",
       "      <td>1.000000</td>\n",
       "      <td>6.117280e+05</td>\n",
       "      <td>2.019040e+07</td>\n",
       "      <td>-1.160000e+03</td>\n",
       "    </tr>\n",
       "    <tr>\n",
       "      <th>25%</th>\n",
       "      <td>2.020093e+07</td>\n",
       "      <td>3.019688e+07</td>\n",
       "      <td>26.000000</td>\n",
       "      <td>10.000000</td>\n",
       "      <td>0.700000</td>\n",
       "      <td>1180.000000</td>\n",
       "      <td>6.119930e+05</td>\n",
       "      <td>2.020110e+07</td>\n",
       "      <td>6.690000e+02</td>\n",
       "    </tr>\n",
       "    <tr>\n",
       "      <th>50%</th>\n",
       "      <td>2.020113e+07</td>\n",
       "      <td>3.020524e+07</td>\n",
       "      <td>30.000000</td>\n",
       "      <td>15.000000</td>\n",
       "      <td>1.500000</td>\n",
       "      <td>1250.000000</td>\n",
       "      <td>6.406650e+05</td>\n",
       "      <td>2.021010e+07</td>\n",
       "      <td>8.120000e+02</td>\n",
       "    </tr>\n",
       "    <tr>\n",
       "      <th>75%</th>\n",
       "      <td>2.021020e+07</td>\n",
       "      <td>3.028042e+07</td>\n",
       "      <td>78.000000</td>\n",
       "      <td>41.000000</td>\n",
       "      <td>3.000000</td>\n",
       "      <td>1500.000000</td>\n",
       "      <td>1.332077e+09</td>\n",
       "      <td>2.021040e+07</td>\n",
       "      <td>9.530000e+02</td>\n",
       "    </tr>\n",
       "    <tr>\n",
       "      <th>max</th>\n",
       "      <td>2.021040e+07</td>\n",
       "      <td>2.147484e+09</td>\n",
       "      <td>113.000000</td>\n",
       "      <td>99.000000</td>\n",
       "      <td>2500.000000</td>\n",
       "      <td>2990.000000</td>\n",
       "      <td>1.722208e+09</td>\n",
       "      <td>3.031010e+07</td>\n",
       "      <td>1.000010e+08</td>\n",
       "    </tr>\n",
       "  </tbody>\n",
       "</table>\n",
       "</div>"
      ],
      "text/plain": [
       "          item_date      customer        country    application  \\\n",
       "count  1.816720e+05  1.816720e+05  181645.000000  181649.000000   \n",
       "mean   2.020459e+07  3.051221e+07      44.893022      25.615809   \n",
       "std    4.551119e+03  2.433382e+07      24.404214      17.754175   \n",
       "min    1.995000e+07  1.245800e+04      25.000000       2.000000   \n",
       "25%    2.020093e+07  3.019688e+07      26.000000      10.000000   \n",
       "50%    2.020113e+07  3.020524e+07      30.000000      15.000000   \n",
       "75%    2.021020e+07  3.028042e+07      78.000000      41.000000   \n",
       "max    2.021040e+07  2.147484e+09     113.000000      99.000000   \n",
       "\n",
       "           thickness          width   product_ref  delivery date  \\\n",
       "count  181672.000000  181673.000000  1.816730e+05   1.816720e+05   \n",
       "mean        2.564827    1295.286724  4.739679e+08   2.020738e+07   \n",
       "std         6.572321     261.631754  7.175101e+08   2.411059e+04   \n",
       "min         0.180000       1.000000  6.117280e+05   2.019040e+07   \n",
       "25%         0.700000    1180.000000  6.119930e+05   2.020110e+07   \n",
       "50%         1.500000    1250.000000  6.406650e+05   2.021010e+07   \n",
       "75%         3.000000    1500.000000  1.332077e+09   2.021040e+07   \n",
       "max      2500.000000    2990.000000  1.722208e+09   3.031010e+07   \n",
       "\n",
       "       selling_price  \n",
       "count   1.816720e+05  \n",
       "mean    1.918036e+03  \n",
       "std     3.317956e+05  \n",
       "min    -1.160000e+03  \n",
       "25%     6.690000e+02  \n",
       "50%     8.120000e+02  \n",
       "75%     9.530000e+02  \n",
       "max     1.000010e+08  "
      ]
     },
     "execution_count": 9,
     "metadata": {},
     "output_type": "execute_result"
    }
   ],
   "source": [
    "df.describe()"
   ]
  },
  {
   "cell_type": "code",
   "execution_count": 10,
   "id": "8db9c2be",
   "metadata": {},
   "outputs": [
    {
     "data": {
      "text/plain": [
       "0                                      DEQ1 S460MC\n",
       "1         0000000000000000000000000000000000104991\n",
       "2                                         S0380700\n",
       "3                          DX51D+ZM310MAO 2.3X1317\n",
       "4                                  2_S275JR+AR-CL1\n",
       "                            ...                   \n",
       "181668    0000000000000000000000000000000001000777\n",
       "181669    0000000000000000000000000000000001000227\n",
       "181670    0000000000000000000000000000000001004216\n",
       "181671    0000000000000000000000000000000001001149\n",
       "181672    0000000000000000000000000000000001005439\n",
       "Name: material_ref, Length: 181673, dtype: object"
      ]
     },
     "execution_count": 10,
     "metadata": {},
     "output_type": "execute_result"
    }
   ],
   "source": [
    "df[\"material_ref\"]"
   ]
  },
  {
   "cell_type": "code",
   "execution_count": 11,
   "id": "5981065f",
   "metadata": {},
   "outputs": [
    {
     "data": {
      "text/html": [
       "<div>\n",
       "<style scoped>\n",
       "    .dataframe tbody tr th:only-of-type {\n",
       "        vertical-align: middle;\n",
       "    }\n",
       "\n",
       "    .dataframe tbody tr th {\n",
       "        vertical-align: top;\n",
       "    }\n",
       "\n",
       "    .dataframe thead th {\n",
       "        text-align: right;\n",
       "    }\n",
       "</style>\n",
       "<table border=\"1\" class=\"dataframe\">\n",
       "  <thead>\n",
       "    <tr style=\"text-align: right;\">\n",
       "      <th></th>\n",
       "      <th>id</th>\n",
       "      <th>item_date</th>\n",
       "      <th>quantity tons</th>\n",
       "      <th>customer</th>\n",
       "      <th>country</th>\n",
       "      <th>status</th>\n",
       "      <th>item type</th>\n",
       "      <th>application</th>\n",
       "      <th>thickness</th>\n",
       "      <th>width</th>\n",
       "      <th>material_ref</th>\n",
       "      <th>product_ref</th>\n",
       "      <th>delivery date</th>\n",
       "      <th>selling_price</th>\n",
       "    </tr>\n",
       "  </thead>\n",
       "  <tbody>\n",
       "    <tr>\n",
       "      <th>0</th>\n",
       "      <td>EC06F063-9DF0-440C-8764-0B0C05A4F6AE</td>\n",
       "      <td>20210401.0</td>\n",
       "      <td>54.151139</td>\n",
       "      <td>30156308.0</td>\n",
       "      <td>28.0</td>\n",
       "      <td>Won</td>\n",
       "      <td>W</td>\n",
       "      <td>10.0</td>\n",
       "      <td>2.00</td>\n",
       "      <td>1500.0</td>\n",
       "      <td>DEQ1 S460MC</td>\n",
       "      <td>1670798778</td>\n",
       "      <td>20210701.0</td>\n",
       "      <td>854.00</td>\n",
       "    </tr>\n",
       "    <tr>\n",
       "      <th>1</th>\n",
       "      <td>4E5F4B3D-DDDF-499D-AFDE-A3227EC49425</td>\n",
       "      <td>20210401.0</td>\n",
       "      <td>768.024839</td>\n",
       "      <td>30202938.0</td>\n",
       "      <td>25.0</td>\n",
       "      <td>Won</td>\n",
       "      <td>W</td>\n",
       "      <td>41.0</td>\n",
       "      <td>0.80</td>\n",
       "      <td>1210.0</td>\n",
       "      <td>NaN</td>\n",
       "      <td>1668701718</td>\n",
       "      <td>20210401.0</td>\n",
       "      <td>1047.00</td>\n",
       "    </tr>\n",
       "    <tr>\n",
       "      <th>2</th>\n",
       "      <td>E140FF1B-2407-4C02-A0DD-780A093B1158</td>\n",
       "      <td>20210401.0</td>\n",
       "      <td>386.127949</td>\n",
       "      <td>30153963.0</td>\n",
       "      <td>30.0</td>\n",
       "      <td>Won</td>\n",
       "      <td>WI</td>\n",
       "      <td>28.0</td>\n",
       "      <td>0.38</td>\n",
       "      <td>952.0</td>\n",
       "      <td>S0380700</td>\n",
       "      <td>628377</td>\n",
       "      <td>20210101.0</td>\n",
       "      <td>644.33</td>\n",
       "    </tr>\n",
       "    <tr>\n",
       "      <th>3</th>\n",
       "      <td>F8D507A0-9C62-4EFE-831E-33E1DA53BB50</td>\n",
       "      <td>20210401.0</td>\n",
       "      <td>202.411065</td>\n",
       "      <td>30349574.0</td>\n",
       "      <td>32.0</td>\n",
       "      <td>Won</td>\n",
       "      <td>S</td>\n",
       "      <td>59.0</td>\n",
       "      <td>2.30</td>\n",
       "      <td>1317.0</td>\n",
       "      <td>DX51D+ZM310MAO 2.3X1317</td>\n",
       "      <td>1668701718</td>\n",
       "      <td>20210101.0</td>\n",
       "      <td>768.00</td>\n",
       "    </tr>\n",
       "    <tr>\n",
       "      <th>4</th>\n",
       "      <td>4E1C4E78-152B-430A-8094-ADD889C9D0AD</td>\n",
       "      <td>20210401.0</td>\n",
       "      <td>785.526262</td>\n",
       "      <td>30211560.0</td>\n",
       "      <td>28.0</td>\n",
       "      <td>Won</td>\n",
       "      <td>W</td>\n",
       "      <td>10.0</td>\n",
       "      <td>4.00</td>\n",
       "      <td>2000.0</td>\n",
       "      <td>2_S275JR+AR-CL1</td>\n",
       "      <td>640665</td>\n",
       "      <td>20210301.0</td>\n",
       "      <td>577.00</td>\n",
       "    </tr>\n",
       "  </tbody>\n",
       "</table>\n",
       "</div>"
      ],
      "text/plain": [
       "                                     id   item_date quantity tons    customer  \\\n",
       "0  EC06F063-9DF0-440C-8764-0B0C05A4F6AE  20210401.0     54.151139  30156308.0   \n",
       "1  4E5F4B3D-DDDF-499D-AFDE-A3227EC49425  20210401.0    768.024839  30202938.0   \n",
       "2  E140FF1B-2407-4C02-A0DD-780A093B1158  20210401.0    386.127949  30153963.0   \n",
       "3  F8D507A0-9C62-4EFE-831E-33E1DA53BB50  20210401.0    202.411065  30349574.0   \n",
       "4  4E1C4E78-152B-430A-8094-ADD889C9D0AD  20210401.0    785.526262  30211560.0   \n",
       "\n",
       "   country status item type  application  thickness   width  \\\n",
       "0     28.0    Won         W         10.0       2.00  1500.0   \n",
       "1     25.0    Won         W         41.0       0.80  1210.0   \n",
       "2     30.0    Won        WI         28.0       0.38   952.0   \n",
       "3     32.0    Won         S         59.0       2.30  1317.0   \n",
       "4     28.0    Won         W         10.0       4.00  2000.0   \n",
       "\n",
       "              material_ref  product_ref  delivery date  selling_price  \n",
       "0              DEQ1 S460MC   1670798778     20210701.0         854.00  \n",
       "1                      NaN   1668701718     20210401.0        1047.00  \n",
       "2                 S0380700       628377     20210101.0         644.33  \n",
       "3  DX51D+ZM310MAO 2.3X1317   1668701718     20210101.0         768.00  \n",
       "4          2_S275JR+AR-CL1       640665     20210301.0         577.00  "
      ]
     },
     "execution_count": 11,
     "metadata": {},
     "output_type": "execute_result"
    }
   ],
   "source": [
    "a = df[\"material_ref\"].str.startswith(\"0000000000\")\n",
    "b = (a==True)\n",
    "df[\"material_ref\"][b] = np.NAN\n",
    "df.head()\n",
    "\n"
   ]
  },
  {
   "cell_type": "code",
   "execution_count": 12,
   "id": "503801c3",
   "metadata": {},
   "outputs": [],
   "source": [
    "df[\"quantity tons\"].values[173086] = 0\n"
   ]
  },
  {
   "cell_type": "code",
   "execution_count": 13,
   "id": "9f5b59b3",
   "metadata": {},
   "outputs": [],
   "source": [
    "df['delivery date'] = pd.to_datetime(df['delivery date'])\n",
    "df['item_date'] = pd.to_datetime(df['item_date'])\n",
    "df[\"quantity tons\"] = pd.to_numeric(df[\"quantity tons\"])\n",
    "# , errors = 'coerce"
   ]
  },
  {
   "cell_type": "code",
   "execution_count": 14,
   "id": "02cac600",
   "metadata": {},
   "outputs": [],
   "source": [
    "df.drop(columns = [\"id\"], axis = 1, inplace = True)"
   ]
  },
  {
   "cell_type": "code",
   "execution_count": 15,
   "id": "ec84a081",
   "metadata": {},
   "outputs": [],
   "source": [
    "cols = ['quantity tons', 'customer', 'country', 'application', 'thickness', 'width', 'selling_price'  ,'status', 'item type', 'material_ref', 'product_ref']"
   ]
  },
  {
   "cell_type": "code",
   "execution_count": 16,
   "id": "94fdde05",
   "metadata": {},
   "outputs": [],
   "source": [
    "cont_cols = ['quantity tons', 'customer', 'country', 'application', 'thickness', 'width', 'selling_price']\n",
    "cat_cols = [ 'status', 'item type', 'material_ref', 'product_ref']"
   ]
  },
  {
   "cell_type": "code",
   "execution_count": 17,
   "id": "47dfcb28",
   "metadata": {},
   "outputs": [
    {
     "name": "stdout",
     "output_type": "stream",
     "text": [
      "quantity tons\n",
      "customer\n",
      "country\n",
      "application\n",
      "width\n",
      "selling_price\n"
     ]
    }
   ],
   "source": [
    "for i in cols:\n",
    "     if i == 'thickness':\n",
    "          si = SimpleImputer(strategy = 'median')       \n",
    "          df[i] = si.fit_transform(np.array(df[i]).reshape(-1,1))\n",
    "     elif i in cat_cols:\n",
    "          si = SimpleImputer(strategy = 'most_frequent')       \n",
    "          df[i] = si.fit_transform(np.array(df[i]).reshape(-1,1))\n",
    "     else:\n",
    "          print(i)\n",
    "          si = SimpleImputer(strategy = 'mean')\n",
    "          df[i] = si.fit_transform(np.array(df[i]).reshape(-1,1))"
   ]
  },
  {
   "cell_type": "code",
   "execution_count": 18,
   "id": "9b90e079",
   "metadata": {},
   "outputs": [
    {
     "name": "stdout",
     "output_type": "stream",
     "text": [
      "quantity tons True\n",
      "customer True\n",
      "country True\n",
      "application True\n",
      "thickness True\n",
      "width True\n",
      "selling_price True\n"
     ]
    }
   ],
   "source": [
    "for i in cols:\n",
    "    if i in cont_cols:\n",
    "            print(i, df[i].apply(lambda x : isinstance(x, float) or isinstance(x, int)).all())\n",
    "            \n",
    "    \n"
   ]
  },
  {
   "cell_type": "code",
   "execution_count": 19,
   "id": "717db993",
   "metadata": {},
   "outputs": [
    {
     "name": "stdout",
     "output_type": "stream",
     "text": [
      "<class 'pandas.core.frame.DataFrame'>\n",
      "RangeIndex: 181673 entries, 0 to 181672\n",
      "Data columns (total 13 columns):\n",
      " #   Column         Non-Null Count   Dtype         \n",
      "---  ------         --------------   -----         \n",
      " 0   item_date      181672 non-null  datetime64[ns]\n",
      " 1   quantity tons  181673 non-null  float64       \n",
      " 2   customer       181673 non-null  float64       \n",
      " 3   country        181673 non-null  float64       \n",
      " 4   status         181673 non-null  object        \n",
      " 5   item type      181673 non-null  object        \n",
      " 6   application    181673 non-null  float64       \n",
      " 7   thickness      181673 non-null  float64       \n",
      " 8   width          181673 non-null  float64       \n",
      " 9   material_ref   181673 non-null  object        \n",
      " 10  product_ref    181673 non-null  int64         \n",
      " 11  delivery date  181672 non-null  datetime64[ns]\n",
      " 12  selling_price  181673 non-null  float64       \n",
      "dtypes: datetime64[ns](2), float64(7), int64(1), object(3)\n",
      "memory usage: 18.0+ MB\n"
     ]
    }
   ],
   "source": [
    "df.info()"
   ]
  },
  {
   "cell_type": "code",
   "execution_count": 20,
   "id": "3dd75db0",
   "metadata": {},
   "outputs": [
    {
     "data": {
      "text/plain": [
       "item_date        1\n",
       "quantity tons    0\n",
       "customer         0\n",
       "country          0\n",
       "status           0\n",
       "item type        0\n",
       "application      0\n",
       "thickness        0\n",
       "width            0\n",
       "material_ref     0\n",
       "product_ref      0\n",
       "delivery date    1\n",
       "selling_price    0\n",
       "dtype: int64"
      ]
     },
     "execution_count": 20,
     "metadata": {},
     "output_type": "execute_result"
    }
   ],
   "source": [
    "df.isnull().sum()"
   ]
  },
  {
   "cell_type": "code",
   "execution_count": 21,
   "id": "dc10177a",
   "metadata": {},
   "outputs": [],
   "source": [
    "df = df.dropna()"
   ]
  },
  {
   "cell_type": "code",
   "execution_count": 22,
   "id": "08dfa842",
   "metadata": {},
   "outputs": [
    {
     "data": {
      "text/plain": [
       "item_date        0\n",
       "quantity tons    0\n",
       "customer         0\n",
       "country          0\n",
       "status           0\n",
       "item type        0\n",
       "application      0\n",
       "thickness        0\n",
       "width            0\n",
       "material_ref     0\n",
       "product_ref      0\n",
       "delivery date    0\n",
       "selling_price    0\n",
       "dtype: int64"
      ]
     },
     "execution_count": 22,
     "metadata": {},
     "output_type": "execute_result"
    }
   ],
   "source": [
    "df.isnull().sum()"
   ]
  },
  {
   "cell_type": "code",
   "execution_count": 23,
   "id": "ea323638",
   "metadata": {},
   "outputs": [
    {
     "data": {
      "text/plain": [
       "array([False])"
      ]
     },
     "execution_count": 23,
     "metadata": {},
     "output_type": "execute_result"
    }
   ],
   "source": [
    "df.duplicated().unique()"
   ]
  },
  {
   "cell_type": "code",
   "execution_count": 24,
   "id": "90cfdccf",
   "metadata": {},
   "outputs": [
    {
     "data": {
      "text/html": [
       "<div>\n",
       "<style scoped>\n",
       "    .dataframe tbody tr th:only-of-type {\n",
       "        vertical-align: middle;\n",
       "    }\n",
       "\n",
       "    .dataframe tbody tr th {\n",
       "        vertical-align: top;\n",
       "    }\n",
       "\n",
       "    .dataframe thead th {\n",
       "        text-align: right;\n",
       "    }\n",
       "</style>\n",
       "<table border=\"1\" class=\"dataframe\">\n",
       "  <thead>\n",
       "    <tr style=\"text-align: right;\">\n",
       "      <th></th>\n",
       "      <th>item_date</th>\n",
       "      <th>quantity tons</th>\n",
       "      <th>customer</th>\n",
       "      <th>country</th>\n",
       "      <th>status</th>\n",
       "      <th>item type</th>\n",
       "      <th>application</th>\n",
       "      <th>thickness</th>\n",
       "      <th>width</th>\n",
       "      <th>material_ref</th>\n",
       "      <th>product_ref</th>\n",
       "      <th>delivery date</th>\n",
       "      <th>selling_price</th>\n",
       "    </tr>\n",
       "  </thead>\n",
       "  <tbody>\n",
       "    <tr>\n",
       "      <th>0</th>\n",
       "      <td>1970-01-01 00:00:00.020210401</td>\n",
       "      <td>54.151139</td>\n",
       "      <td>30156308.0</td>\n",
       "      <td>28.0</td>\n",
       "      <td>Won</td>\n",
       "      <td>W</td>\n",
       "      <td>10.0</td>\n",
       "      <td>2.00</td>\n",
       "      <td>1500.0</td>\n",
       "      <td>DEQ1 S460MC</td>\n",
       "      <td>1670798778</td>\n",
       "      <td>1970-01-01 00:00:00.020210701</td>\n",
       "      <td>854.00</td>\n",
       "    </tr>\n",
       "    <tr>\n",
       "      <th>1</th>\n",
       "      <td>1970-01-01 00:00:00.020210401</td>\n",
       "      <td>768.024839</td>\n",
       "      <td>30202938.0</td>\n",
       "      <td>25.0</td>\n",
       "      <td>Won</td>\n",
       "      <td>W</td>\n",
       "      <td>41.0</td>\n",
       "      <td>0.80</td>\n",
       "      <td>1210.0</td>\n",
       "      <td>DX51D+Z</td>\n",
       "      <td>1668701718</td>\n",
       "      <td>1970-01-01 00:00:00.020210401</td>\n",
       "      <td>1047.00</td>\n",
       "    </tr>\n",
       "    <tr>\n",
       "      <th>2</th>\n",
       "      <td>1970-01-01 00:00:00.020210401</td>\n",
       "      <td>386.127949</td>\n",
       "      <td>30153963.0</td>\n",
       "      <td>30.0</td>\n",
       "      <td>Won</td>\n",
       "      <td>WI</td>\n",
       "      <td>28.0</td>\n",
       "      <td>0.38</td>\n",
       "      <td>952.0</td>\n",
       "      <td>S0380700</td>\n",
       "      <td>628377</td>\n",
       "      <td>1970-01-01 00:00:00.020210101</td>\n",
       "      <td>644.33</td>\n",
       "    </tr>\n",
       "    <tr>\n",
       "      <th>3</th>\n",
       "      <td>1970-01-01 00:00:00.020210401</td>\n",
       "      <td>202.411065</td>\n",
       "      <td>30349574.0</td>\n",
       "      <td>32.0</td>\n",
       "      <td>Won</td>\n",
       "      <td>S</td>\n",
       "      <td>59.0</td>\n",
       "      <td>2.30</td>\n",
       "      <td>1317.0</td>\n",
       "      <td>DX51D+ZM310MAO 2.3X1317</td>\n",
       "      <td>1668701718</td>\n",
       "      <td>1970-01-01 00:00:00.020210101</td>\n",
       "      <td>768.00</td>\n",
       "    </tr>\n",
       "    <tr>\n",
       "      <th>4</th>\n",
       "      <td>1970-01-01 00:00:00.020210401</td>\n",
       "      <td>785.526262</td>\n",
       "      <td>30211560.0</td>\n",
       "      <td>28.0</td>\n",
       "      <td>Won</td>\n",
       "      <td>W</td>\n",
       "      <td>10.0</td>\n",
       "      <td>4.00</td>\n",
       "      <td>2000.0</td>\n",
       "      <td>2_S275JR+AR-CL1</td>\n",
       "      <td>640665</td>\n",
       "      <td>1970-01-01 00:00:00.020210301</td>\n",
       "      <td>577.00</td>\n",
       "    </tr>\n",
       "  </tbody>\n",
       "</table>\n",
       "</div>"
      ],
      "text/plain": [
       "                      item_date  quantity tons    customer  country status  \\\n",
       "0 1970-01-01 00:00:00.020210401      54.151139  30156308.0     28.0    Won   \n",
       "1 1970-01-01 00:00:00.020210401     768.024839  30202938.0     25.0    Won   \n",
       "2 1970-01-01 00:00:00.020210401     386.127949  30153963.0     30.0    Won   \n",
       "3 1970-01-01 00:00:00.020210401     202.411065  30349574.0     32.0    Won   \n",
       "4 1970-01-01 00:00:00.020210401     785.526262  30211560.0     28.0    Won   \n",
       "\n",
       "  item type  application  thickness   width             material_ref  \\\n",
       "0         W         10.0       2.00  1500.0              DEQ1 S460MC   \n",
       "1         W         41.0       0.80  1210.0                  DX51D+Z   \n",
       "2        WI         28.0       0.38   952.0                 S0380700   \n",
       "3         S         59.0       2.30  1317.0  DX51D+ZM310MAO 2.3X1317   \n",
       "4         W         10.0       4.00  2000.0          2_S275JR+AR-CL1   \n",
       "\n",
       "   product_ref                 delivery date  selling_price  \n",
       "0   1670798778 1970-01-01 00:00:00.020210701         854.00  \n",
       "1   1668701718 1970-01-01 00:00:00.020210401        1047.00  \n",
       "2       628377 1970-01-01 00:00:00.020210101         644.33  \n",
       "3   1668701718 1970-01-01 00:00:00.020210101         768.00  \n",
       "4       640665 1970-01-01 00:00:00.020210301         577.00  "
      ]
     },
     "execution_count": 24,
     "metadata": {},
     "output_type": "execute_result"
    }
   ],
   "source": [
    "df.head()"
   ]
  },
  {
   "cell_type": "code",
   "execution_count": 25,
   "id": "e6eb0d21",
   "metadata": {},
   "outputs": [
    {
     "name": "stdout",
     "output_type": "stream",
     "text": [
      "quantity tons 424.6884787783041\n",
      "customer 86.98482929193453\n",
      "country 0.7536622041398789\n",
      "application 0.7243906708830958\n",
      "thickness 303.44619573382073\n",
      "width 0.37460387055601996\n",
      "selling_price 301.386428888825\n"
     ]
    }
   ],
   "source": [
    "for i in cont_cols:\n",
    "    print(i, df[i].skew())"
   ]
  },
  {
   "cell_type": "code",
   "execution_count": 26,
   "id": "df8a5cad",
   "metadata": {},
   "outputs": [
    {
     "data": {
      "text/plain": [
       "0          854.00\n",
       "1         1047.00\n",
       "2          644.33\n",
       "3          768.00\n",
       "4          577.00\n",
       "           ...   \n",
       "181668     591.00\n",
       "181669     589.00\n",
       "181670     619.00\n",
       "181671     601.00\n",
       "181672     607.00\n",
       "Name: selling_price, Length: 181671, dtype: float64"
      ]
     },
     "execution_count": 26,
     "metadata": {},
     "output_type": "execute_result"
    }
   ],
   "source": [
    "df[\"selling_price\"]"
   ]
  },
  {
   "cell_type": "code",
   "execution_count": 27,
   "id": "1008ccfb",
   "metadata": {},
   "outputs": [],
   "source": [
    "y = df[\"selling_price\"]\n",
    "y[y <= 0] = 1e-8\n",
    "y = np.log(np.array(y))\n",
    "y[y == np.inf] = np.nan\n",
    "y[y == -np.inf] = np.nan\n",
    "si = SimpleImputer(strategy = 'mean')\n",
    "y = si.fit_transform(np.array(y).reshape(-1,1))"
   ]
  },
  {
   "cell_type": "code",
   "execution_count": 28,
   "id": "ae937073",
   "metadata": {},
   "outputs": [],
   "source": [
    "df[\"selling_price\"] = y"
   ]
  },
  {
   "cell_type": "code",
   "execution_count": 29,
   "id": "30050b1b",
   "metadata": {},
   "outputs": [
    {
     "data": {
      "text/plain": [
       "-7.780198090218454"
      ]
     },
     "execution_count": 29,
     "metadata": {},
     "output_type": "execute_result"
    }
   ],
   "source": [
    "df[\"selling_price\"].skew()"
   ]
  },
  {
   "cell_type": "code",
   "execution_count": 30,
   "id": "2ebccac6",
   "metadata": {},
   "outputs": [
    {
     "data": {
      "text/plain": [
       "(181671,)"
      ]
     },
     "execution_count": 30,
     "metadata": {},
     "output_type": "execute_result"
    }
   ],
   "source": [
    "df[\"selling_price\"].shape"
   ]
  },
  {
   "cell_type": "code",
   "execution_count": 31,
   "id": "8d4eca70",
   "metadata": {},
   "outputs": [
    {
     "data": {
      "text/plain": [
       "(181671, 13)"
      ]
     },
     "execution_count": 31,
     "metadata": {},
     "output_type": "execute_result"
    }
   ],
   "source": [
    "df.shape"
   ]
  },
  {
   "cell_type": "code",
   "execution_count": 32,
   "id": "51d049ab",
   "metadata": {},
   "outputs": [
    {
     "data": {
      "text/plain": [
       "0         6.749931\n",
       "1         6.953684\n",
       "2         6.468211\n",
       "3         6.643790\n",
       "4         6.357842\n",
       "            ...   \n",
       "181668    6.381816\n",
       "181669    6.378426\n",
       "181670    6.428105\n",
       "181671    6.398595\n",
       "181672    6.408529\n",
       "Name: selling_price, Length: 181671, dtype: float64"
      ]
     },
     "execution_count": 32,
     "metadata": {},
     "output_type": "execute_result"
    }
   ],
   "source": [
    "df[\"selling_price\"]"
   ]
  },
  {
   "cell_type": "code",
   "execution_count": 33,
   "id": "eba274ec",
   "metadata": {},
   "outputs": [
    {
     "data": {
      "text/plain": [
       "['status', 'item type', 'material_ref', 'product_ref']"
      ]
     },
     "execution_count": 33,
     "metadata": {},
     "output_type": "execute_result"
    }
   ],
   "source": [
    "cat_cols"
   ]
  },
  {
   "cell_type": "code",
   "execution_count": 34,
   "id": "37d514a5",
   "metadata": {},
   "outputs": [
    {
     "data": {
      "text/plain": [
       "Index(['item_date', 'quantity tons', 'customer', 'country', 'status',\n",
       "       'item type', 'application', 'thickness', 'width', 'material_ref',\n",
       "       'product_ref', 'delivery date', 'selling_price'],\n",
       "      dtype='object')"
      ]
     },
     "execution_count": 34,
     "metadata": {},
     "output_type": "execute_result"
    }
   ],
   "source": [
    "df.columns"
   ]
  },
  {
   "cell_type": "code",
   "execution_count": 35,
   "id": "f6cbbdf4",
   "metadata": {},
   "outputs": [
    {
     "data": {
      "text/plain": [
       "0         6.749931\n",
       "1         6.953684\n",
       "2         6.468211\n",
       "3         6.643790\n",
       "4         6.357842\n",
       "            ...   \n",
       "181668    6.381816\n",
       "181669    6.378426\n",
       "181670    6.428105\n",
       "181671    6.398595\n",
       "181672    6.408529\n",
       "Name: selling_price, Length: 181671, dtype: float64"
      ]
     },
     "execution_count": 35,
     "metadata": {},
     "output_type": "execute_result"
    }
   ],
   "source": [
    "df[\"selling_price\"]"
   ]
  },
  {
   "cell_type": "code",
   "execution_count": 36,
   "id": "90b7180d",
   "metadata": {},
   "outputs": [
    {
     "data": {
      "text/plain": [
       "Index(['item_date', 'quantity tons', 'customer', 'country', 'status',\n",
       "       'item type', 'application', 'thickness', 'width', 'material_ref',\n",
       "       'product_ref', 'delivery date', 'selling_price'],\n",
       "      dtype='object')"
      ]
     },
     "execution_count": 36,
     "metadata": {},
     "output_type": "execute_result"
    }
   ],
   "source": [
    "df.columns"
   ]
  },
  {
   "cell_type": "code",
   "execution_count": 37,
   "id": "77e1a4d4",
   "metadata": {},
   "outputs": [
    {
     "data": {
      "text/html": [
       "<div>\n",
       "<style scoped>\n",
       "    .dataframe tbody tr th:only-of-type {\n",
       "        vertical-align: middle;\n",
       "    }\n",
       "\n",
       "    .dataframe tbody tr th {\n",
       "        vertical-align: top;\n",
       "    }\n",
       "\n",
       "    .dataframe thead th {\n",
       "        text-align: right;\n",
       "    }\n",
       "</style>\n",
       "<table border=\"1\" class=\"dataframe\">\n",
       "  <thead>\n",
       "    <tr style=\"text-align: right;\">\n",
       "      <th></th>\n",
       "      <th>item_date</th>\n",
       "      <th>quantity tons</th>\n",
       "      <th>customer</th>\n",
       "      <th>country</th>\n",
       "      <th>status</th>\n",
       "      <th>item type</th>\n",
       "      <th>application</th>\n",
       "      <th>thickness</th>\n",
       "      <th>width</th>\n",
       "      <th>material_ref</th>\n",
       "      <th>product_ref</th>\n",
       "      <th>delivery date</th>\n",
       "      <th>selling_price</th>\n",
       "    </tr>\n",
       "  </thead>\n",
       "  <tbody>\n",
       "    <tr>\n",
       "      <th>0</th>\n",
       "      <td>1970-01-01 00:00:00.020210401</td>\n",
       "      <td>54.151139</td>\n",
       "      <td>30156308.0</td>\n",
       "      <td>28.0</td>\n",
       "      <td>Won</td>\n",
       "      <td>W</td>\n",
       "      <td>10.0</td>\n",
       "      <td>2.00</td>\n",
       "      <td>1500.0</td>\n",
       "      <td>DEQ1 S460MC</td>\n",
       "      <td>1670798778</td>\n",
       "      <td>1970-01-01 00:00:00.020210701</td>\n",
       "      <td>6.749931</td>\n",
       "    </tr>\n",
       "    <tr>\n",
       "      <th>1</th>\n",
       "      <td>1970-01-01 00:00:00.020210401</td>\n",
       "      <td>768.024839</td>\n",
       "      <td>30202938.0</td>\n",
       "      <td>25.0</td>\n",
       "      <td>Won</td>\n",
       "      <td>W</td>\n",
       "      <td>41.0</td>\n",
       "      <td>0.80</td>\n",
       "      <td>1210.0</td>\n",
       "      <td>DX51D+Z</td>\n",
       "      <td>1668701718</td>\n",
       "      <td>1970-01-01 00:00:00.020210401</td>\n",
       "      <td>6.953684</td>\n",
       "    </tr>\n",
       "    <tr>\n",
       "      <th>2</th>\n",
       "      <td>1970-01-01 00:00:00.020210401</td>\n",
       "      <td>386.127949</td>\n",
       "      <td>30153963.0</td>\n",
       "      <td>30.0</td>\n",
       "      <td>Won</td>\n",
       "      <td>WI</td>\n",
       "      <td>28.0</td>\n",
       "      <td>0.38</td>\n",
       "      <td>952.0</td>\n",
       "      <td>S0380700</td>\n",
       "      <td>628377</td>\n",
       "      <td>1970-01-01 00:00:00.020210101</td>\n",
       "      <td>6.468211</td>\n",
       "    </tr>\n",
       "    <tr>\n",
       "      <th>3</th>\n",
       "      <td>1970-01-01 00:00:00.020210401</td>\n",
       "      <td>202.411065</td>\n",
       "      <td>30349574.0</td>\n",
       "      <td>32.0</td>\n",
       "      <td>Won</td>\n",
       "      <td>S</td>\n",
       "      <td>59.0</td>\n",
       "      <td>2.30</td>\n",
       "      <td>1317.0</td>\n",
       "      <td>DX51D+ZM310MAO 2.3X1317</td>\n",
       "      <td>1668701718</td>\n",
       "      <td>1970-01-01 00:00:00.020210101</td>\n",
       "      <td>6.643790</td>\n",
       "    </tr>\n",
       "    <tr>\n",
       "      <th>4</th>\n",
       "      <td>1970-01-01 00:00:00.020210401</td>\n",
       "      <td>785.526262</td>\n",
       "      <td>30211560.0</td>\n",
       "      <td>28.0</td>\n",
       "      <td>Won</td>\n",
       "      <td>W</td>\n",
       "      <td>10.0</td>\n",
       "      <td>4.00</td>\n",
       "      <td>2000.0</td>\n",
       "      <td>2_S275JR+AR-CL1</td>\n",
       "      <td>640665</td>\n",
       "      <td>1970-01-01 00:00:00.020210301</td>\n",
       "      <td>6.357842</td>\n",
       "    </tr>\n",
       "  </tbody>\n",
       "</table>\n",
       "</div>"
      ],
      "text/plain": [
       "                      item_date  quantity tons    customer  country status  \\\n",
       "0 1970-01-01 00:00:00.020210401      54.151139  30156308.0     28.0    Won   \n",
       "1 1970-01-01 00:00:00.020210401     768.024839  30202938.0     25.0    Won   \n",
       "2 1970-01-01 00:00:00.020210401     386.127949  30153963.0     30.0    Won   \n",
       "3 1970-01-01 00:00:00.020210401     202.411065  30349574.0     32.0    Won   \n",
       "4 1970-01-01 00:00:00.020210401     785.526262  30211560.0     28.0    Won   \n",
       "\n",
       "  item type  application  thickness   width             material_ref  \\\n",
       "0         W         10.0       2.00  1500.0              DEQ1 S460MC   \n",
       "1         W         41.0       0.80  1210.0                  DX51D+Z   \n",
       "2        WI         28.0       0.38   952.0                 S0380700   \n",
       "3         S         59.0       2.30  1317.0  DX51D+ZM310MAO 2.3X1317   \n",
       "4         W         10.0       4.00  2000.0          2_S275JR+AR-CL1   \n",
       "\n",
       "   product_ref                 delivery date  selling_price  \n",
       "0   1670798778 1970-01-01 00:00:00.020210701       6.749931  \n",
       "1   1668701718 1970-01-01 00:00:00.020210401       6.953684  \n",
       "2       628377 1970-01-01 00:00:00.020210101       6.468211  \n",
       "3   1668701718 1970-01-01 00:00:00.020210101       6.643790  \n",
       "4       640665 1970-01-01 00:00:00.020210301       6.357842  "
      ]
     },
     "execution_count": 37,
     "metadata": {},
     "output_type": "execute_result"
    }
   ],
   "source": [
    "df.head()"
   ]
  },
  {
   "cell_type": "code",
   "execution_count": 38,
   "id": "df5b6d5d",
   "metadata": {},
   "outputs": [
    {
     "data": {
      "text/plain": [
       "[]"
      ]
     },
     "execution_count": 38,
     "metadata": {},
     "output_type": "execute_result"
    },
    {
     "data": {
      "image/png": "[encoded data removed]",
      "text/plain": [
       "<Figure size 640x480 with 2 Axes>"
      ]
     },
     "metadata": {},
     "output_type": "display_data"
    }
   ],
   "source": [
    "sns.heatmap(df.corr()).plot()"
   ]
  },
  {
   "cell_type": "code",
   "execution_count": 39,
   "id": "a7f2a560",
   "metadata": {},
   "outputs": [
    {
     "data": {
      "application/vnd.jupyter.widget-view+json": {
       "model_id": "11818f2d2f29481cbd4aa9645b545b12",
       "version_major": 2,
       "version_minor": 0
      },
      "text/plain": [
       "                                             |                                             | [  0%]   00:00 ->…"
      ]
     },
     "metadata": {},
     "output_type": "display_data"
    }
   ],
   "source": [
    "my_report = sweetviz.analyze([df, \"Train\"], target_feat = \"selling_price\")"
   ]
  },
  {
   "cell_type": "code",
   "execution_count": 40,
   "id": "70047823",
   "metadata": {},
   "outputs": [
    {
     "name": "stdout",
     "output_type": "stream",
     "text": [
      "Report SWEETVIZ_REPORT.html was generated! NOTEBOOK/COLAB USERS: the web browser MAY not pop up, regardless, the report IS saved in your notebook/colab files.\n"
     ]
    }
   ],
   "source": [
    "my_report.show_html()"
   ]
  },
  {
   "cell_type": "code",
   "execution_count": 39,
   "id": "87074e58",
   "metadata": {},
   "outputs": [],
   "source": [
    "df['delivery_time'] = (df['delivery date'] - df['item_date']).dt.total_seconds() # CALCULATING DIFFERENCES IN SECONDS\n",
    "df = df.drop(columns = [\"delivery date\", \"item_date\"])"
   ]
  },
  {
   "cell_type": "code",
   "execution_count": 40,
   "id": "d582c08d",
   "metadata": {},
   "outputs": [
    {
     "data": {
      "text/plain": [
       "0         3.000000e-07\n",
       "1         0.000000e+00\n",
       "2        -3.000000e-07\n",
       "3        -3.000000e-07\n",
       "4        -1.000000e-07\n",
       "              ...     \n",
       "181668   -1.000000e-09\n",
       "181669   -1.000000e-09\n",
       "181670   -1.000000e-09\n",
       "181671   -1.000000e-09\n",
       "181672   -1.000000e-09\n",
       "Name: delivery_time, Length: 181671, dtype: float64"
      ]
     },
     "execution_count": 40,
     "metadata": {},
     "output_type": "execute_result"
    }
   ],
   "source": [
    "df[\"delivery_time\"]"
   ]
  },
  {
   "cell_type": "code",
   "execution_count": 41,
   "id": "205ddc0a",
   "metadata": {},
   "outputs": [],
   "source": [
    "df[\"quantity tons\"] = winsorize(df[\"quantity tons\"], limits = [0.1, 0.1])\n",
    "df[\"thickness\"] = winsorize(df[\"thickness\"], limits = [0.1, 0.1])"
   ]
  },
  {
   "cell_type": "code",
   "execution_count": 42,
   "id": "1c05fa4e",
   "metadata": {},
   "outputs": [
    {
     "data": {
      "text/plain": [
       "quantity tons       AxesSubplot(0.125,0.11;0.0731132x0.77)\n",
       "customer         AxesSubplot(0.212736,0.11;0.0731132x0.77)\n",
       "country          AxesSubplot(0.300472,0.11;0.0731132x0.77)\n",
       "application      AxesSubplot(0.388208,0.11;0.0731132x0.77)\n",
       "thickness        AxesSubplot(0.475943,0.11;0.0731132x0.77)\n",
       "width            AxesSubplot(0.563679,0.11;0.0731132x0.77)\n",
       "product_ref      AxesSubplot(0.651415,0.11;0.0731132x0.77)\n",
       "selling_price    AxesSubplot(0.739151,0.11;0.0731132x0.77)\n",
       "delivery_time    AxesSubplot(0.826887,0.11;0.0731132x0.77)\n",
       "dtype: object"
      ]
     },
     "execution_count": 42,
     "metadata": {},
     "output_type": "execute_result"
    },
    {
     "data": {
      "image/png": "[encoded data removed]",
      "text/plain": [
       "<Figure size 1200x500 with 9 Axes>"
      ]
     },
     "metadata": {},
     "output_type": "display_data"
    }
   ],
   "source": [
    "df.plot(kind = \"box\", subplots = True, figsize = (12,5), fontsize = 8)"
   ]
  },
  {
   "cell_type": "code",
   "execution_count": 43,
   "id": "b1800548",
   "metadata": {},
   "outputs": [
    {
     "data": {
      "text/html": [
       "<div>\n",
       "<style scoped>\n",
       "    .dataframe tbody tr th:only-of-type {\n",
       "        vertical-align: middle;\n",
       "    }\n",
       "\n",
       "    .dataframe tbody tr th {\n",
       "        vertical-align: top;\n",
       "    }\n",
       "\n",
       "    .dataframe thead th {\n",
       "        text-align: right;\n",
       "    }\n",
       "</style>\n",
       "<table border=\"1\" class=\"dataframe\">\n",
       "  <thead>\n",
       "    <tr style=\"text-align: right;\">\n",
       "      <th></th>\n",
       "      <th>quantity tons</th>\n",
       "      <th>width</th>\n",
       "      <th>selling_price</th>\n",
       "    </tr>\n",
       "  </thead>\n",
       "  <tbody>\n",
       "    <tr>\n",
       "      <th>0</th>\n",
       "      <td>54.151139</td>\n",
       "      <td>1500.0</td>\n",
       "      <td>6.749931</td>\n",
       "    </tr>\n",
       "    <tr>\n",
       "      <th>1</th>\n",
       "      <td>169.422752</td>\n",
       "      <td>1210.0</td>\n",
       "      <td>6.953684</td>\n",
       "    </tr>\n",
       "    <tr>\n",
       "      <th>2</th>\n",
       "      <td>169.422752</td>\n",
       "      <td>952.0</td>\n",
       "      <td>6.468211</td>\n",
       "    </tr>\n",
       "    <tr>\n",
       "      <th>3</th>\n",
       "      <td>169.422752</td>\n",
       "      <td>1317.0</td>\n",
       "      <td>6.643790</td>\n",
       "    </tr>\n",
       "    <tr>\n",
       "      <th>4</th>\n",
       "      <td>169.422752</td>\n",
       "      <td>2000.0</td>\n",
       "      <td>6.357842</td>\n",
       "    </tr>\n",
       "    <tr>\n",
       "      <th>...</th>\n",
       "      <td>...</td>\n",
       "      <td>...</td>\n",
       "      <td>...</td>\n",
       "    </tr>\n",
       "    <tr>\n",
       "      <th>181668</th>\n",
       "      <td>102.482422</td>\n",
       "      <td>1220.0</td>\n",
       "      <td>6.381816</td>\n",
       "    </tr>\n",
       "    <tr>\n",
       "      <th>181669</th>\n",
       "      <td>169.422752</td>\n",
       "      <td>1500.0</td>\n",
       "      <td>6.378426</td>\n",
       "    </tr>\n",
       "    <tr>\n",
       "      <th>181670</th>\n",
       "      <td>5.119882</td>\n",
       "      <td>1250.0</td>\n",
       "      <td>6.428105</td>\n",
       "    </tr>\n",
       "    <tr>\n",
       "      <th>181671</th>\n",
       "      <td>5.119882</td>\n",
       "      <td>1250.0</td>\n",
       "      <td>6.398595</td>\n",
       "    </tr>\n",
       "    <tr>\n",
       "      <th>181672</th>\n",
       "      <td>169.422752</td>\n",
       "      <td>1240.0</td>\n",
       "      <td>6.408529</td>\n",
       "    </tr>\n",
       "  </tbody>\n",
       "</table>\n",
       "<p>181671 rows × 3 columns</p>\n",
       "</div>"
      ],
      "text/plain": [
       "        quantity tons   width  selling_price\n",
       "0           54.151139  1500.0       6.749931\n",
       "1          169.422752  1210.0       6.953684\n",
       "2          169.422752   952.0       6.468211\n",
       "3          169.422752  1317.0       6.643790\n",
       "4          169.422752  2000.0       6.357842\n",
       "...               ...     ...            ...\n",
       "181668     102.482422  1220.0       6.381816\n",
       "181669     169.422752  1500.0       6.378426\n",
       "181670       5.119882  1250.0       6.428105\n",
       "181671       5.119882  1250.0       6.398595\n",
       "181672     169.422752  1240.0       6.408529\n",
       "\n",
       "[181671 rows x 3 columns]"
      ]
     },
     "execution_count": 43,
     "metadata": {},
     "output_type": "execute_result"
    }
   ],
   "source": [
    "df[['quantity tons','width', 'selling_price']]"
   ]
  },
  {
   "cell_type": "code",
   "execution_count": 44,
   "id": "dbb25901",
   "metadata": {},
   "outputs": [],
   "source": [
    "for col in ['quantity tons', 'width', 'selling_price']:\n",
    "    df[col] = winsorize(df[col], limits=[0.1, 0.1])\n"
   ]
  },
  {
   "cell_type": "code",
   "execution_count": 45,
   "id": "557fa2b1",
   "metadata": {},
   "outputs": [
    {
     "data": {
      "text/html": [
       "<div>\n",
       "<style scoped>\n",
       "    .dataframe tbody tr th:only-of-type {\n",
       "        vertical-align: middle;\n",
       "    }\n",
       "\n",
       "    .dataframe tbody tr th {\n",
       "        vertical-align: top;\n",
       "    }\n",
       "\n",
       "    .dataframe thead th {\n",
       "        text-align: right;\n",
       "    }\n",
       "</style>\n",
       "<table border=\"1\" class=\"dataframe\">\n",
       "  <thead>\n",
       "    <tr style=\"text-align: right;\">\n",
       "      <th></th>\n",
       "      <th>quantity tons</th>\n",
       "      <th>width</th>\n",
       "      <th>selling_price</th>\n",
       "    </tr>\n",
       "  </thead>\n",
       "  <tbody>\n",
       "    <tr>\n",
       "      <th>0</th>\n",
       "      <td>54.151139</td>\n",
       "      <td>1500.0</td>\n",
       "      <td>6.749931</td>\n",
       "    </tr>\n",
       "    <tr>\n",
       "      <th>1</th>\n",
       "      <td>169.422752</td>\n",
       "      <td>1210.0</td>\n",
       "      <td>6.953684</td>\n",
       "    </tr>\n",
       "    <tr>\n",
       "      <th>2</th>\n",
       "      <td>169.422752</td>\n",
       "      <td>1000.0</td>\n",
       "      <td>6.468211</td>\n",
       "    </tr>\n",
       "    <tr>\n",
       "      <th>3</th>\n",
       "      <td>169.422752</td>\n",
       "      <td>1317.0</td>\n",
       "      <td>6.643790</td>\n",
       "    </tr>\n",
       "    <tr>\n",
       "      <th>4</th>\n",
       "      <td>169.422752</td>\n",
       "      <td>1500.0</td>\n",
       "      <td>6.357842</td>\n",
       "    </tr>\n",
       "    <tr>\n",
       "      <th>...</th>\n",
       "      <td>...</td>\n",
       "      <td>...</td>\n",
       "      <td>...</td>\n",
       "    </tr>\n",
       "    <tr>\n",
       "      <th>181668</th>\n",
       "      <td>102.482422</td>\n",
       "      <td>1220.0</td>\n",
       "      <td>6.381816</td>\n",
       "    </tr>\n",
       "    <tr>\n",
       "      <th>181669</th>\n",
       "      <td>169.422752</td>\n",
       "      <td>1500.0</td>\n",
       "      <td>6.378426</td>\n",
       "    </tr>\n",
       "    <tr>\n",
       "      <th>181670</th>\n",
       "      <td>5.119882</td>\n",
       "      <td>1250.0</td>\n",
       "      <td>6.428105</td>\n",
       "    </tr>\n",
       "    <tr>\n",
       "      <th>181671</th>\n",
       "      <td>5.119882</td>\n",
       "      <td>1250.0</td>\n",
       "      <td>6.398595</td>\n",
       "    </tr>\n",
       "    <tr>\n",
       "      <th>181672</th>\n",
       "      <td>169.422752</td>\n",
       "      <td>1240.0</td>\n",
       "      <td>6.408529</td>\n",
       "    </tr>\n",
       "  </tbody>\n",
       "</table>\n",
       "<p>181671 rows × 3 columns</p>\n",
       "</div>"
      ],
      "text/plain": [
       "        quantity tons   width  selling_price\n",
       "0           54.151139  1500.0       6.749931\n",
       "1          169.422752  1210.0       6.953684\n",
       "2          169.422752  1000.0       6.468211\n",
       "3          169.422752  1317.0       6.643790\n",
       "4          169.422752  1500.0       6.357842\n",
       "...               ...     ...            ...\n",
       "181668     102.482422  1220.0       6.381816\n",
       "181669     169.422752  1500.0       6.378426\n",
       "181670       5.119882  1250.0       6.428105\n",
       "181671       5.119882  1250.0       6.398595\n",
       "181672     169.422752  1240.0       6.408529\n",
       "\n",
       "[181671 rows x 3 columns]"
      ]
     },
     "execution_count": 45,
     "metadata": {},
     "output_type": "execute_result"
    }
   ],
   "source": [
    "df[['quantity tons','width', 'selling_price']]"
   ]
  },
  {
   "cell_type": "code",
   "execution_count": 46,
   "id": "1d8fe870",
   "metadata": {},
   "outputs": [
    {
     "data": {
      "text/plain": [
       "<AxesSubplot:>"
      ]
     },
     "execution_count": 46,
     "metadata": {},
     "output_type": "execute_result"
    },
    {
     "data": {
      "image/png": "[encoded data removed]",
      "text/plain": [
       "<Figure size 1000x500 with 1 Axes>"
      ]
     },
     "metadata": {},
     "output_type": "display_data"
    }
   ],
   "source": [
    "df[['quantity tons','width', 'selling_price']].plot.box(figsize = (10,5))"
   ]
  },
  {
   "cell_type": "code",
   "execution_count": 47,
   "id": "6d27ec9a",
   "metadata": {},
   "outputs": [],
   "source": [
    "copy = df"
   ]
  },
  {
   "cell_type": "code",
   "execution_count": 48,
   "id": "8af38fbd",
   "metadata": {},
   "outputs": [],
   "source": [
    "import category_encoders as ce\n",
    "target_en = ce.TargetEncoder(cols = cat_cols)\n",
    "df = target_en.fit_transform(df.drop(columns = [\"selling_price\"]), df[\"selling_price\"])\n",
    "df[\"selling_price\"] = y\n",
    "            "
   ]
  },
  {
   "cell_type": "code",
   "execution_count": 49,
   "id": "60b6433f",
   "metadata": {},
   "outputs": [],
   "source": [
    "ms = MinMaxScaler()\n",
    "for i in df.columns:\n",
    "    df[i] = ms.fit_transform(np.array(df[i]).reshape(-1,1))\n",
    "    "
   ]
  },
  {
   "cell_type": "code",
   "execution_count": 50,
   "id": "30666059",
   "metadata": {},
   "outputs": [
    {
     "data": {
      "text/html": [
       "<div>\n",
       "<style scoped>\n",
       "    .dataframe tbody tr th:only-of-type {\n",
       "        vertical-align: middle;\n",
       "    }\n",
       "\n",
       "    .dataframe tbody tr th {\n",
       "        vertical-align: top;\n",
       "    }\n",
       "\n",
       "    .dataframe thead th {\n",
       "        text-align: right;\n",
       "    }\n",
       "</style>\n",
       "<table border=\"1\" class=\"dataframe\">\n",
       "  <thead>\n",
       "    <tr style=\"text-align: right;\">\n",
       "      <th></th>\n",
       "      <th>quantity tons</th>\n",
       "      <th>customer</th>\n",
       "      <th>country</th>\n",
       "      <th>status</th>\n",
       "      <th>item type</th>\n",
       "      <th>application</th>\n",
       "      <th>thickness</th>\n",
       "      <th>width</th>\n",
       "      <th>material_ref</th>\n",
       "      <th>product_ref</th>\n",
       "      <th>delivery_time</th>\n",
       "      <th>selling_price</th>\n",
       "    </tr>\n",
       "  </thead>\n",
       "  <tbody>\n",
       "    <tr>\n",
       "      <th>0</th>\n",
       "      <td>0.29842</td>\n",
       "      <td>0.014037</td>\n",
       "      <td>0.034091</td>\n",
       "      <td>0.618022</td>\n",
       "      <td>0.878366</td>\n",
       "      <td>0.082474</td>\n",
       "      <td>0.272727</td>\n",
       "      <td>1.000</td>\n",
       "      <td>0.546650</td>\n",
       "      <td>0.109216</td>\n",
       "      <td>0.001988</td>\n",
       "      <td>0.683216</td>\n",
       "    </tr>\n",
       "    <tr>\n",
       "      <th>1</th>\n",
       "      <td>1.00000</td>\n",
       "      <td>0.014059</td>\n",
       "      <td>0.000000</td>\n",
       "      <td>0.618022</td>\n",
       "      <td>0.878366</td>\n",
       "      <td>0.402062</td>\n",
       "      <td>0.054545</td>\n",
       "      <td>0.420</td>\n",
       "      <td>0.544231</td>\n",
       "      <td>0.494425</td>\n",
       "      <td>0.001958</td>\n",
       "      <td>0.688746</td>\n",
       "    </tr>\n",
       "    <tr>\n",
       "      <th>2</th>\n",
       "      <td>1.00000</td>\n",
       "      <td>0.014036</td>\n",
       "      <td>0.056818</td>\n",
       "      <td>0.618022</td>\n",
       "      <td>0.000000</td>\n",
       "      <td>0.268041</td>\n",
       "      <td>0.000000</td>\n",
       "      <td>0.000</td>\n",
       "      <td>0.471972</td>\n",
       "      <td>0.132219</td>\n",
       "      <td>0.001929</td>\n",
       "      <td>0.675569</td>\n",
       "    </tr>\n",
       "    <tr>\n",
       "      <th>3</th>\n",
       "      <td>1.00000</td>\n",
       "      <td>0.014127</td>\n",
       "      <td>0.079545</td>\n",
       "      <td>0.618022</td>\n",
       "      <td>0.694520</td>\n",
       "      <td>0.587629</td>\n",
       "      <td>0.327273</td>\n",
       "      <td>0.634</td>\n",
       "      <td>0.540255</td>\n",
       "      <td>0.494425</td>\n",
       "      <td>0.001929</td>\n",
       "      <td>0.680335</td>\n",
       "    </tr>\n",
       "    <tr>\n",
       "      <th>4</th>\n",
       "      <td>1.00000</td>\n",
       "      <td>0.014063</td>\n",
       "      <td>0.034091</td>\n",
       "      <td>0.618022</td>\n",
       "      <td>0.878366</td>\n",
       "      <td>0.082474</td>\n",
       "      <td>0.636364</td>\n",
       "      <td>1.000</td>\n",
       "      <td>0.357532</td>\n",
       "      <td>0.000000</td>\n",
       "      <td>0.001948</td>\n",
       "      <td>0.672573</td>\n",
       "    </tr>\n",
       "  </tbody>\n",
       "</table>\n",
       "</div>"
      ],
      "text/plain": [
       "   quantity tons  customer   country    status  item type  application  \\\n",
       "0        0.29842  0.014037  0.034091  0.618022   0.878366     0.082474   \n",
       "1        1.00000  0.014059  0.000000  0.618022   0.878366     0.402062   \n",
       "2        1.00000  0.014036  0.056818  0.618022   0.000000     0.268041   \n",
       "3        1.00000  0.014127  0.079545  0.618022   0.694520     0.587629   \n",
       "4        1.00000  0.014063  0.034091  0.618022   0.878366     0.082474   \n",
       "\n",
       "   thickness  width  material_ref  product_ref  delivery_time  selling_price  \n",
       "0   0.272727  1.000      0.546650     0.109216       0.001988       0.683216  \n",
       "1   0.054545  0.420      0.544231     0.494425       0.001958       0.688746  \n",
       "2   0.000000  0.000      0.471972     0.132219       0.001929       0.675569  \n",
       "3   0.327273  0.634      0.540255     0.494425       0.001929       0.680335  \n",
       "4   0.636364  1.000      0.357532     0.000000       0.001948       0.672573  "
      ]
     },
     "execution_count": 50,
     "metadata": {},
     "output_type": "execute_result"
    }
   ],
   "source": [
    "df.head()"
   ]
  },
  {
   "cell_type": "code",
   "execution_count": 51,
   "id": "c0d0311a",
   "metadata": {},
   "outputs": [],
   "source": [
    "x = df.iloc[:, :12]\n",
    "y =  df['selling_price']"
   ]
  },
  {
   "cell_type": "code",
   "execution_count": 52,
   "id": "3b37cd61",
   "metadata": {},
   "outputs": [],
   "source": [
    "x_train, x_test, y_train, y_test = train_test_split(x, y,test_size = 0.2,  random_state = 5)"
   ]
  },
  {
   "cell_type": "code",
   "execution_count": 53,
   "id": "d7947857",
   "metadata": {},
   "outputs": [
    {
     "name": "stdout",
     "output_type": "stream",
     "text": [
      "1.0\n",
      "1.0\n"
     ]
    }
   ],
   "source": [
    "lr = LinearRegression()\n",
    "lr.fit(x_train, y_train)\n",
    "tr_preds = lr.predict(x_train)\n",
    "print(r2_score(tr_preds, y_train))\n",
    "te_preds = lr.predict(x_test)\n",
    "print(r2_score(te_preds, y_test))"
   ]
  },
  {
   "cell_type": "code",
   "execution_count": 54,
   "id": "8f2a8355",
   "metadata": {},
   "outputs": [
    {
     "name": "stdout",
     "output_type": "stream",
     "text": [
      "0.9999999999995943\n",
      "0.9995474888359184\n"
     ]
    }
   ],
   "source": [
    "from sklearn.tree import DecisionTreeRegressor\n",
    "dt = DecisionTreeRegressor()\n",
    "dt.fit(x_train, y_train)\n",
    "tr_preds = dt.predict(x_train)\n",
    "print(r2_score(tr_preds, y_train))\n",
    "te_preds = dt.predict(x_test)\n",
    "print(r2_score(te_preds, y_test))"
   ]
  },
  {
   "cell_type": "code",
   "execution_count": 55,
   "id": "204d440a",
   "metadata": {},
   "outputs": [
    {
     "data": {
      "text/plain": [
       "Counter({'Won': 116011,\n",
       "         'Draft': 3140,\n",
       "         'To be approved': 4170,\n",
       "         'Lost': 34437,\n",
       "         'Not lost for AM': 19573,\n",
       "         'Wonderful': 1,\n",
       "         'Revised': 4276,\n",
       "         'Offered': 53,\n",
       "         'Offerable': 10})"
      ]
     },
     "execution_count": 55,
     "metadata": {},
     "output_type": "execute_result"
    }
   ],
   "source": [
    "from collections import Counter\n",
    "Counter(copy[\"status\"])"
   ]
  },
  {
   "cell_type": "code",
   "execution_count": 56,
   "id": "48cceb14",
   "metadata": {},
   "outputs": [
    {
     "data": {
      "text/plain": [
       "0         Won\n",
       "1         Won\n",
       "2         Won\n",
       "3         Won\n",
       "4         Won\n",
       "         ... \n",
       "181668    Won\n",
       "181669    Won\n",
       "181670    Won\n",
       "181671    Won\n",
       "181672    Won\n",
       "Name: status, Length: 181671, dtype: object"
      ]
     },
     "execution_count": 56,
     "metadata": {},
     "output_type": "execute_result"
    }
   ],
   "source": [
    "copy[\"status\"]"
   ]
  },
  {
   "cell_type": "code",
   "execution_count": 57,
   "id": "ae3afe6a",
   "metadata": {},
   "outputs": [
    {
     "data": {
      "text/plain": [
       "'Won'"
      ]
     },
     "execution_count": 57,
     "metadata": {},
     "output_type": "execute_result"
    }
   ],
   "source": [
    "copy[\"status\"].values[1]"
   ]
  },
  {
   "cell_type": "code",
   "execution_count": 58,
   "id": "cef2ff19",
   "metadata": {},
   "outputs": [],
   "source": [
    "for i in range(len(df[\"status\"])):\n",
    "    if copy[\"status\"].values[i] not in [\"Won\", \"Lost\"]:\n",
    "        copy[\"status\"].values[i] = np.nan\n",
    "       \n"
   ]
  },
  {
   "cell_type": "code",
   "execution_count": 59,
   "id": "34241542",
   "metadata": {},
   "outputs": [
    {
     "data": {
      "text/plain": [
       "181671"
      ]
     },
     "execution_count": 59,
     "metadata": {},
     "output_type": "execute_result"
    }
   ],
   "source": [
    "len(df[\"status\"])"
   ]
  },
  {
   "cell_type": "code",
   "execution_count": 60,
   "id": "50171add",
   "metadata": {},
   "outputs": [
    {
     "data": {
      "text/plain": [
       "Counter({'Won': 116011, nan: 31223, 'Lost': 34437})"
      ]
     },
     "execution_count": 60,
     "metadata": {},
     "output_type": "execute_result"
    }
   ],
   "source": [
    "from collections import Counter\n",
    "Counter(copy[\"status\"])"
   ]
  },
  {
   "cell_type": "code",
   "execution_count": 61,
   "id": "023105a6",
   "metadata": {},
   "outputs": [],
   "source": [
    "copy = copy.dropna()"
   ]
  },
  {
   "cell_type": "code",
   "execution_count": 62,
   "id": "f4ae6830",
   "metadata": {},
   "outputs": [],
   "source": [
    "cat_cols = ['item type', 'material_ref', 'product_ref']"
   ]
  },
  {
   "cell_type": "code",
   "execution_count": 63,
   "id": "771d2e11",
   "metadata": {},
   "outputs": [],
   "source": [
    "target_en = ce.TargetEncoder(cols = cat_cols)\n",
    "copy = target_en.fit_transform(copy.drop(columns = [\"selling_price\"]), copy[\"selling_price\"])\n",
    "copy[\"selling_price\"] = y\n"
   ]
  },
  {
   "cell_type": "code",
   "execution_count": 64,
   "id": "9106dea0",
   "metadata": {},
   "outputs": [],
   "source": [
    "le = LabelEncoder()\n",
    "copy[\"status\"] = le.fit_transform(np.array(copy[\"status\"]).reshape(-1,1))\n"
   ]
  },
  {
   "cell_type": "code",
   "execution_count": 65,
   "id": "a35153cc",
   "metadata": {},
   "outputs": [
    {
     "data": {
      "text/html": [
       "<div>\n",
       "<style scoped>\n",
       "    .dataframe tbody tr th:only-of-type {\n",
       "        vertical-align: middle;\n",
       "    }\n",
       "\n",
       "    .dataframe tbody tr th {\n",
       "        vertical-align: top;\n",
       "    }\n",
       "\n",
       "    .dataframe thead th {\n",
       "        text-align: right;\n",
       "    }\n",
       "</style>\n",
       "<table border=\"1\" class=\"dataframe\">\n",
       "  <thead>\n",
       "    <tr style=\"text-align: right;\">\n",
       "      <th></th>\n",
       "      <th>quantity tons</th>\n",
       "      <th>customer</th>\n",
       "      <th>country</th>\n",
       "      <th>status</th>\n",
       "      <th>item type</th>\n",
       "      <th>application</th>\n",
       "      <th>thickness</th>\n",
       "      <th>width</th>\n",
       "      <th>material_ref</th>\n",
       "      <th>product_ref</th>\n",
       "      <th>delivery_time</th>\n",
       "      <th>selling_price</th>\n",
       "    </tr>\n",
       "  </thead>\n",
       "  <tbody>\n",
       "    <tr>\n",
       "      <th>0</th>\n",
       "      <td>54.151139</td>\n",
       "      <td>30156308.0</td>\n",
       "      <td>28.0</td>\n",
       "      <td>1</td>\n",
       "      <td>6.705322</td>\n",
       "      <td>10.0</td>\n",
       "      <td>2.0</td>\n",
       "      <td>1500.0</td>\n",
       "      <td>6.696779</td>\n",
       "      <td>6.588094</td>\n",
       "      <td>3.000000e-07</td>\n",
       "      <td>0.683216</td>\n",
       "    </tr>\n",
       "    <tr>\n",
       "      <th>1</th>\n",
       "      <td>169.422752</td>\n",
       "      <td>30202938.0</td>\n",
       "      <td>25.0</td>\n",
       "      <td>1</td>\n",
       "      <td>6.705322</td>\n",
       "      <td>41.0</td>\n",
       "      <td>0.8</td>\n",
       "      <td>1210.0</td>\n",
       "      <td>6.693881</td>\n",
       "      <td>6.769853</td>\n",
       "      <td>0.000000e+00</td>\n",
       "      <td>0.688746</td>\n",
       "    </tr>\n",
       "    <tr>\n",
       "      <th>2</th>\n",
       "      <td>169.422752</td>\n",
       "      <td>30153963.0</td>\n",
       "      <td>30.0</td>\n",
       "      <td>1</td>\n",
       "      <td>6.540711</td>\n",
       "      <td>28.0</td>\n",
       "      <td>0.5</td>\n",
       "      <td>1000.0</td>\n",
       "      <td>6.655926</td>\n",
       "      <td>6.599879</td>\n",
       "      <td>-3.000000e-07</td>\n",
       "      <td>0.675569</td>\n",
       "    </tr>\n",
       "    <tr>\n",
       "      <th>3</th>\n",
       "      <td>169.422752</td>\n",
       "      <td>30349574.0</td>\n",
       "      <td>32.0</td>\n",
       "      <td>1</td>\n",
       "      <td>6.661978</td>\n",
       "      <td>59.0</td>\n",
       "      <td>2.3</td>\n",
       "      <td>1317.0</td>\n",
       "      <td>6.693124</td>\n",
       "      <td>6.769853</td>\n",
       "      <td>-3.000000e-07</td>\n",
       "      <td>0.680335</td>\n",
       "    </tr>\n",
       "    <tr>\n",
       "      <th>4</th>\n",
       "      <td>169.422752</td>\n",
       "      <td>30211560.0</td>\n",
       "      <td>28.0</td>\n",
       "      <td>1</td>\n",
       "      <td>6.705322</td>\n",
       "      <td>10.0</td>\n",
       "      <td>4.0</td>\n",
       "      <td>1500.0</td>\n",
       "      <td>6.588814</td>\n",
       "      <td>6.540460</td>\n",
       "      <td>-1.000000e-07</td>\n",
       "      <td>0.672573</td>\n",
       "    </tr>\n",
       "  </tbody>\n",
       "</table>\n",
       "</div>"
      ],
      "text/plain": [
       "   quantity tons    customer  country  status  item type  application  \\\n",
       "0      54.151139  30156308.0     28.0       1   6.705322         10.0   \n",
       "1     169.422752  30202938.0     25.0       1   6.705322         41.0   \n",
       "2     169.422752  30153963.0     30.0       1   6.540711         28.0   \n",
       "3     169.422752  30349574.0     32.0       1   6.661978         59.0   \n",
       "4     169.422752  30211560.0     28.0       1   6.705322         10.0   \n",
       "\n",
       "   thickness   width  material_ref  product_ref  delivery_time  selling_price  \n",
       "0        2.0  1500.0      6.696779     6.588094   3.000000e-07       0.683216  \n",
       "1        0.8  1210.0      6.693881     6.769853   0.000000e+00       0.688746  \n",
       "2        0.5  1000.0      6.655926     6.599879  -3.000000e-07       0.675569  \n",
       "3        2.3  1317.0      6.693124     6.769853  -3.000000e-07       0.680335  \n",
       "4        4.0  1500.0      6.588814     6.540460  -1.000000e-07       0.672573  "
      ]
     },
     "execution_count": 65,
     "metadata": {},
     "output_type": "execute_result"
    }
   ],
   "source": [
    "copy.head()"
   ]
  },
  {
   "cell_type": "code",
   "execution_count": 66,
   "id": "8ed1da62",
   "metadata": {},
   "outputs": [],
   "source": [
    "y = copy[\"status\"]\n"
   ]
  },
  {
   "cell_type": "code",
   "execution_count": 67,
   "id": "63055a60",
   "metadata": {},
   "outputs": [],
   "source": [
    "x = copy.drop(columns = [\"status\"], axis = 1)\n"
   ]
  },
  {
   "cell_type": "code",
   "execution_count": 68,
   "id": "79c65e18",
   "metadata": {},
   "outputs": [],
   "source": [
    "x_train, x_test, y_train, y_test = train_test_split(x, y, test_size = 0.2, random_state = 5)"
   ]
  },
  {
   "cell_type": "code",
   "execution_count": 69,
   "id": "c32950df",
   "metadata": {},
   "outputs": [
    {
     "name": "stdout",
     "output_type": "stream",
     "text": [
      "acc of tr 0.7715232888549162\n",
      "acc of te 0.7694250581588568\n"
     ]
    }
   ],
   "source": [
    "lg = LogisticRegression()\n",
    "lg.fit(x_train, y_train)\n",
    "tr_preds = lg.predict(x_train)\n",
    "print(\"acc of tr\", accuracy_score(tr_preds, y_train))\n",
    "te_preds = lg.predict(x_test)\n",
    "print(\"acc of te\", accuracy_score(te_preds, y_test))"
   ]
  },
  {
   "cell_type": "code",
   "execution_count": 70,
   "id": "b354dd6d",
   "metadata": {},
   "outputs": [
    {
     "name": "stdout",
     "output_type": "stream",
     "text": [
      "acc of tr 0.9107329799431696\n",
      "acc of te 0.8700564971751412\n"
     ]
    }
   ],
   "source": [
    "knn = KNeighborsClassifier()\n",
    "knn.fit(x_train, y_train)\n",
    "tr_preds = knn.predict(x_train)\n",
    "print(\"acc of tr\", accuracy_score(tr_preds, y_train))\n",
    "te_preds = knn.predict(x_test)\n",
    "print(\"acc of te\", accuracy_score(te_preds, y_test))\n"
   ]
  },
  {
   "cell_type": "code",
   "execution_count": 73,
   "id": "3e839d8d",
   "metadata": {},
   "outputs": [
    {
     "name": "stdout",
     "output_type": "stream",
     "text": [
      "acc of tr 0.9998753718074411\n",
      "acc of te 0.9294782319707544\n"
     ]
    }
   ],
   "source": [
    "dt = DecisionTreeClassifier()\n",
    "dt.fit(x_train, y_train)\n",
    "tr_preds = dt.predict(x_train)\n",
    "print(\"acc of tr\", accuracy_score(tr_preds, y_train))\n",
    "te_preds = dt.predict(x_test)\n",
    "print(\"acc of te\", accuracy_score(te_preds, y_test))"
   ]
  },
  {
   "cell_type": "code",
   "execution_count": 71,
   "id": "6123d527",
   "metadata": {},
   "outputs": [
    {
     "name": "stdout",
     "output_type": "stream",
     "text": [
      "acc of tr :  0.9998005948919059\n",
      "acc of te :  0.9453971419076105\n"
     ]
    }
   ],
   "source": [
    "rf = RandomForestClassifier()\n",
    "rf.fit(x_train, y_train)\n",
    "tr_preds = rf.predict(x_train)\n",
    "te_preds = rf.predict(x_test)\n",
    "print(\"acc of tr : \", accuracy_score(tr_preds, y_train))\n",
    "print(\"acc of te : \", accuracy_score(te_preds, y_test))"
   ]
  },
  {
   "cell_type": "code",
   "execution_count": null,
   "id": "12ae70f2",
   "metadata": {},
   "outputs": [],
   "source": [
    "xg = XGBClassifier()\n",
    "xg.fit(x_train, y_train)\n",
    "tr_preds = xg.predict(x_train)\n",
    "te_preds = xg.predict(x_test)\n",
    "print(\"acc of tr : \", accuracy_score(tr_preds, y_train))\n",
    "print(\"acc of te : \", accuracy_score(te_preds, y_test))\n"
   ]
  },
  {
   "cell_type": "code",
   "execution_count": null,
   "id": "7062c249",
   "metadata": {},
   "outputs": [],
   "source": [
    "ab = AdaBoostClassifier()\n",
    "ab.fit(x_train, y_train)\n",
    "tr_preds = ab.predict(x_train)\n",
    "te_preds = ab.predict(x_test)\n",
    "print(\"acc of tr : \", accuracy_score(tr_preds, y_train))\n",
    "print(\"acc of te : \", accuracy_score(te_preds, y_test))\n"
   ]
  },
  {
   "cell_type": "code",
   "execution_count": null,
   "id": "c0e66d26",
   "metadata": {},
   "outputs": [],
   "source": [
    "gb = GradientBoostingClassifier()\n",
    "gb.fit(x_train, y_train)\n",
    "tr_preds = gb.predict(x_train)\n",
    "te_preds = gb.predict(x_test)\n",
    "print(\"acc of tr : \", accuracy_score(tr_preds, y_train))\n",
    "print(\"acc of te : \", accuracy_score(te_preds, y_test))\n"
   ]
  },
  {
   "cell_type": "code",
   "execution_count": null,
   "id": "f2b8184b",
   "metadata": {},
   "outputs": [],
   "source": [
    "cb = CatBoostClassifier()\n",
    "cb.fit(x_train, y_train)\n",
    "tr_preds = cb.predict(x_train)\n",
    "te_preds = cb.predict(x_test)\n",
    "print(\"acc of tr : \", accuracy_score(tr_preds, y_train))\n",
    "print(\"acc of te : \", accuracy_score(te_preds, y_test))\n"
   ]
  },
  {
   "cell_type": "code",
   "execution_count": 72,
   "id": "1dedd799",
   "metadata": {},
   "outputs": [
    {
     "name": "stdout",
     "output_type": "stream",
     "text": [
      "Requirement already satisfied: streamlit in c:\\users\\manideep\\anaconda3\\lib\\site-packages (1.17.0)\n",
      "Requirement already satisfied: protobuf<4,>=3.12 in c:\\users\\manideep\\anaconda3\\lib\\site-packages (from streamlit) (3.20.3)\n",
      "Requirement already satisfied: requests>=2.4 in c:\\users\\manideep\\anaconda3\\lib\\site-packages (from streamlit) (2.28.1)\n",
      "Requirement already satisfied: blinker>=1.0.0 in c:\\users\\manideep\\anaconda3\\lib\\site-packages (from streamlit) (1.5)\n",
      "Requirement already satisfied: cachetools>=4.0 in c:\\users\\manideep\\anaconda3\\lib\\site-packages (from streamlit) (5.2.1)\n",
      "Requirement already satisfied: numpy in c:\\users\\manideep\\anaconda3\\lib\\site-packages (from streamlit) (1.23.5)\n",
      "Requirement already satisfied: packaging>=14.1 in c:\\users\\manideep\\anaconda3\\lib\\site-packages (from streamlit) (21.3)\n",
      "Requirement already satisfied: tzlocal>=1.1 in c:\\users\\manideep\\anaconda3\\lib\\site-packages (from streamlit) (4.2)\n",
      "Requirement already satisfied: python-dateutil in c:\\users\\manideep\\anaconda3\\lib\\site-packages (from streamlit) (2.8.2)\n",
      "Requirement already satisfied: rich>=10.11.0 in c:\\users\\manideep\\anaconda3\\lib\\site-packages (from streamlit) (13.1.0)\n",
      "Requirement already satisfied: pandas>=0.21.0 in c:\\users\\manideep\\anaconda3\\lib\\site-packages (from streamlit) (1.4.4)\n",
      "Requirement already satisfied: typing-extensions>=3.10.0.0 in c:\\users\\manideep\\anaconda3\\lib\\site-packages (from streamlit) (4.3.0)\n",
      "Requirement already satisfied: toml in c:\\users\\manideep\\anaconda3\\lib\\site-packages (from streamlit) (0.10.2)\n",
      "Requirement already satisfied: importlib-metadata>=1.4 in c:\\users\\manideep\\anaconda3\\lib\\site-packages (from streamlit) (4.11.3)\n",
      "Requirement already satisfied: validators>=0.2 in c:\\users\\manideep\\anaconda3\\lib\\site-packages (from streamlit) (0.20.0)\n",
      "Requirement already satisfied: watchdog in c:\\users\\manideep\\anaconda3\\lib\\site-packages (from streamlit) (2.1.6)\n",
      "Requirement already satisfied: click>=7.0 in c:\\users\\manideep\\anaconda3\\lib\\site-packages (from streamlit) (8.0.4)\n",
      "Requirement already satisfied: pyarrow>=4.0 in c:\\users\\manideep\\anaconda3\\lib\\site-packages (from streamlit) (10.0.1)\n",
      "Requirement already satisfied: altair>=3.2.0 in c:\\users\\manideep\\anaconda3\\lib\\site-packages (from streamlit) (4.2.0)\n",
      "Requirement already satisfied: gitpython!=3.1.19 in c:\\users\\manideep\\anaconda3\\lib\\site-packages (from streamlit) (3.1.30)\n",
      "Requirement already satisfied: tornado>=5.0 in c:\\users\\manideep\\anaconda3\\lib\\site-packages (from streamlit) (6.1)\n",
      "Requirement already satisfied: pydeck>=0.1.dev5 in c:\\users\\manideep\\anaconda3\\lib\\site-packages (from streamlit) (0.8.0)\n",
      "Requirement already satisfied: semver in c:\\users\\manideep\\anaconda3\\lib\\site-packages (from streamlit) (2.13.0)\n",
      "Requirement already satisfied: pympler>=0.9 in c:\\users\\manideep\\anaconda3\\lib\\site-packages (from streamlit) (1.0.1)\n",
      "Requirement already satisfied: pillow>=6.2.0 in c:\\users\\manideep\\anaconda3\\lib\\site-packages (from streamlit) (9.2.0)\n",
      "Requirement already satisfied: entrypoints in c:\\users\\manideep\\anaconda3\\lib\\site-packages (from altair>=3.2.0->streamlit) (0.4)\n",
      "Requirement already satisfied: jinja2 in c:\\users\\manideep\\anaconda3\\lib\\site-packages (from altair>=3.2.0->streamlit) (2.11.3)\n",
      "Requirement already satisfied: toolz in c:\\users\\manideep\\anaconda3\\lib\\site-packages (from altair>=3.2.0->streamlit) (0.11.2)\n",
      "Requirement already satisfied: jsonschema>=3.0 in c:\\users\\manideep\\anaconda3\\lib\\site-packages (from altair>=3.2.0->streamlit) (4.16.0)\n",
      "Requirement already satisfied: colorama in c:\\users\\manideep\\anaconda3\\lib\\site-packages (from click>=7.0->streamlit) (0.4.5)\n",
      "Requirement already satisfied: gitdb<5,>=4.0.1 in c:\\users\\manideep\\anaconda3\\lib\\site-packages (from gitpython!=3.1.19->streamlit) (4.0.10)\n",
      "Requirement already satisfied: zipp>=0.5 in c:\\users\\manideep\\anaconda3\\lib\\site-packages (from importlib-metadata>=1.4->streamlit) (3.8.0)\n",
      "Requirement already satisfied: pyparsing!=3.0.5,>=2.0.2 in c:\\users\\manideep\\anaconda3\\lib\\site-packages (from packaging>=14.1->streamlit) (3.0.9)\n",
      "Requirement already satisfied: pytz>=2020.1 in c:\\users\\manideep\\anaconda3\\lib\\site-packages (from pandas>=0.21.0->streamlit) (2022.1)\n",
      "Requirement already satisfied: six>=1.5 in c:\\users\\manideep\\anaconda3\\lib\\site-packages (from python-dateutil->streamlit) (1.16.0)\n",
      "Requirement already satisfied: charset-normalizer<3,>=2 in c:\\users\\manideep\\anaconda3\\lib\\site-packages (from requests>=2.4->streamlit) (2.0.4)\n",
      "Requirement already satisfied: idna<4,>=2.5 in c:\\users\\manideep\\anaconda3\\lib\\site-packages (from requests>=2.4->streamlit) (3.3)\n",
      "Requirement already satisfied: urllib3<1.27,>=1.21.1 in c:\\users\\manideep\\anaconda3\\lib\\site-packages (from requests>=2.4->streamlit) (1.26.11)\n",
      "Requirement already satisfied: certifi>=2017.4.17 in c:\\users\\manideep\\anaconda3\\lib\\site-packages (from requests>=2.4->streamlit) (2022.9.14)\n",
      "Requirement already satisfied: pygments<3.0.0,>=2.6.0 in c:\\users\\manideep\\anaconda3\\lib\\site-packages (from rich>=10.11.0->streamlit) (2.11.2)\n",
      "Requirement already satisfied: commonmark<0.10.0,>=0.9.0 in c:\\users\\manideep\\anaconda3\\lib\\site-packages (from rich>=10.11.0->streamlit) (0.9.1)\n",
      "Requirement already satisfied: pytz-deprecation-shim in c:\\users\\manideep\\anaconda3\\lib\\site-packages (from tzlocal>=1.1->streamlit) (0.1.0.post0)\n",
      "Requirement already satisfied: tzdata in c:\\users\\manideep\\anaconda3\\lib\\site-packages (from tzlocal>=1.1->streamlit) (2022.7)\n",
      "Requirement already satisfied: decorator>=3.4.0 in c:\\users\\manideep\\anaconda3\\lib\\site-packages (from validators>=0.2->streamlit) (5.1.1)\n",
      "Requirement already satisfied: smmap<6,>=3.0.1 in c:\\users\\manideep\\anaconda3\\lib\\site-packages (from gitdb<5,>=4.0.1->gitpython!=3.1.19->streamlit) (5.0.0)\n",
      "Requirement already satisfied: MarkupSafe>=0.23 in c:\\users\\manideep\\anaconda3\\lib\\site-packages (from jinja2->altair>=3.2.0->streamlit) (2.0.1)\n",
      "Requirement already satisfied: pyrsistent!=0.17.0,!=0.17.1,!=0.17.2,>=0.14.0 in c:\\users\\manideep\\anaconda3\\lib\\site-packages (from jsonschema>=3.0->altair>=3.2.0->streamlit) (0.18.0)\n",
      "Requirement already satisfied: attrs>=17.4.0 in c:\\users\\manideep\\anaconda3\\lib\\site-packages (from jsonschema>=3.0->altair>=3.2.0->streamlit) (21.4.0)\n"
     ]
    }
   ],
   "source": [
    "!pip install streamlit"
   ]
  },
  {
   "cell_type": "code",
   "execution_count": 73,
   "id": "75b1e55c",
   "metadata": {},
   "outputs": [
    {
     "name": "stderr",
     "output_type": "stream",
     "text": [
      "2023-05-07 07:53:23.697 \n",
      "  \u001b[33m\u001b[1mWarning:\u001b[0m to view this Streamlit app on a browser, run it with the following\n",
      "  command:\n",
      "\n",
      "    streamlit run C:\\Users\\manideep\\anaconda3\\lib\\site-packages\\ipykernel_launcher.py [ARGUMENTS]\n"
     ]
    }
   ],
   "source": [
    "import streamlit as st\n",
    "new = pd.DataFrame(columns = ['item_date', 'quantity tons', 'customer', 'country', 'status',\n",
    "       'item type', 'application', 'thickness', 'width', 'material_ref',\n",
    "       'product_ref', 'delivery date'])\n",
    "new1 = pd.DataFrame(columns = ['item_date', 'quantity tons', 'customer', 'country',\n",
    "       'item type', 'application', 'thickness', 'width', 'material_ref',\n",
    "       'product_ref', 'delivery date'])\n",
    "st.title(\"Industrial Copper Modeling\")  # Setting the title of the page\n",
    "if st.button(\"Regression\"):\n",
    "          for i in [\"item_date\", \"quantity tons\", \"customer\", \"status\", \"item type\", \"application\", \"thickness\", \"width\", \"material_ref\", \"product_ref\", \"delivery date\"]:\n",
    "                      a = st.text_input(i)\n",
    "                      new[i] = a\n",
    "          c = lr.predict(new[i])\n",
    "          st.write(c)\n",
    "if st.button(\"Classification\"):\n",
    "            for i in [\"item_date\", \"quantity tons\", \"customer\", \"item type\", \"application\", \"thickness\",\n",
    "                      \"width\", \"material_ref\", \"product_ref\", \"delivery date\", \"selling_price\"]:\n",
    "                b = st.text_input(i)\n",
    "                new[i] = a\n",
    "            c = lr.predict(new[i])\n",
    "            st.write(c)\n",
    "\n",
    "\n",
    "\n",
    "\n",
    "\n",
    "\n"
   ]
  },
  {
   "cell_type": "code",
   "execution_count": null,
   "id": "3391551b",
   "metadata": {},
   "outputs": [],
   "source": []
  },
  {
   "cell_type": "code",
   "execution_count": null,
   "id": "d2c86fc2",
   "metadata": {},
   "outputs": [],
   "source": []
  }
 ],
 "metadata": {
  "kernelspec": {
   "display_name": "Python 3 (ipykernel)",
   "language": "python",
   "name": "python3"
  },
  "language_info": {
   "codemirror_mode": {
    "name": "ipython",
    "version": 3
   },
   "file_extension": ".py",
   "mimetype": "text/x-python",
   "name": "python",
   "nbconvert_exporter": "python",
   "pygments_lexer": "ipython3",
   "version": "3.9.13"
  }
 },
 "nbformat": 4,
 "nbformat_minor": 5
}
